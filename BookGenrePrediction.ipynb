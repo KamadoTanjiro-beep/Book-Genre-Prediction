{
  "nbformat": 4,
  "nbformat_minor": 0,
  "metadata": {
    "colab": {
      "name": "BookGenrePrediction.ipynb",
      "provenance": [],
      "collapsed_sections": [],
      "authorship_tag": "ABX9TyO16MNLOpO4FMjHkMPXI/RZ",
      "include_colab_link": true
    },
    "kernelspec": {
      "name": "python3",
      "display_name": "Python 3"
    },
    "accelerator": "GPU"
  },
  "cells": [
    {
      "cell_type": "markdown",
      "metadata": {
        "id": "view-in-github",
        "colab_type": "text"
      },
      "source": [
        "<a href=\"https://colab.research.google.com/github/Sirsho1997/Book-Genre-Prediction-using-Book-Summary/blob/master/BookGenrePrediction.ipynb\" target=\"_parent\"><img src=\"https://colab.research.google.com/assets/colab-badge.svg\" alt=\"Open In Colab\"/></a>"
      ]
    },
    {
      "cell_type": "markdown",
      "metadata": {
        "colab_type": "text",
        "id": "vPi3497tnC5r"
      },
      "source": [
        "**The aim of this project is to apply the principles of text mining on a piece of literary text, and categorize it into the genre into which it best fits.**\n",
        "\n",
        "\n",
        "At the very begining we have to **import all the necessary packages**."
      ]
    },
    {
      "cell_type": "code",
      "metadata": {
        "id": "x-xt4t4z335u",
        "colab_type": "code",
        "colab": {}
      },
      "source": [
        "#Importing libraries.\n",
        "\n",
        "import pandas as pd\n",
        "import numpy as np\n",
        "import nltk\n",
        "import matplotlib.pyplot as plt \n",
        "import seaborn as sns\n",
        "import re\n",
        "from datetime import datetime\n",
        "from sklearn.feature_extraction.text import TfidfVectorizer\n",
        "from sklearn.model_selection import train_test_split\n"
      ],
      "execution_count": 0,
      "outputs": []
    },
    {
      "cell_type": "markdown",
      "metadata": {
        "id": "8x5llVwLoLJ8",
        "colab_type": "text"
      },
      "source": [
        "The dataset that have been used here is a subset of the **CMU Book Summary Dataset** available at http://www.cs.cmu.edu/~dbamman/booksummaries.html .\n",
        "Dataset was unevenly distributed at the beginning. After days of data wrangling we could attain some uniformity in the dataset. The processed dataset has been uploaded as BookDataSet.csv , which has **6 main genres** - **\"Crime Fiction\", \"Fanstasy\", \"Historical novel\", \"Horror\", \"Science Fiction\", \"Thriller\"**."
      ]
    },
    {
      "cell_type": "markdown",
      "metadata": {
        "id": "UQ4bdDeSRhhz",
        "colab_type": "text"
      },
      "source": [
        "**Load Data**"
      ]
    },
    {
      "cell_type": "code",
      "metadata": {
        "id": "A6A04T5Z365W",
        "colab_type": "code",
        "outputId": "0e8119f4-fe95-4050-840e-e7f62e1de680",
        "colab": {
          "resources": {
            "http://localhost:8080/nbextensions/google.colab/files.js": {
              "data": "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",
              "ok": true,
              "headers": [
                [
                  "content-type",
                  "application/javascript"
                ]
              ],
              "status": 200,
              "status_text": ""
            }
          },
          "base_uri": "https://localhost:8080/",
          "height": 74
        }
      },
      "source": [
        "#Uploading the dataset on the google colab.\n",
        "from google.colab import files\n",
        "uploaded = files.upload()"
      ],
      "execution_count": 4,
      "outputs": [
        {
          "output_type": "display_data",
          "data": {
            "text/html": [
              "\n",
              "     <input type=\"file\" id=\"files-d6b8d68d-7110-41f3-8894-89c30f32be2c\" name=\"files[]\" multiple disabled />\n",
              "     <output id=\"result-d6b8d68d-7110-41f3-8894-89c30f32be2c\">\n",
              "      Upload widget is only available when the cell has been executed in the\n",
              "      current browser session. Please rerun this cell to enable.\n",
              "      </output>\n",
              "      <script src=\"/nbextensions/google.colab/files.js\"></script> "
            ],
            "text/plain": [
              "<IPython.core.display.HTML object>"
            ]
          },
          "metadata": {
            "tags": []
          }
        },
        {
          "output_type": "stream",
          "text": [
            "Saving BooksDataSet.csv to BooksDataSet.csv\n"
          ],
          "name": "stdout"
        }
      ]
    },
    {
      "cell_type": "markdown",
      "metadata": {
        "id": "93_Q4fGZ4UX-",
        "colab_type": "text"
      },
      "source": [
        "Creating the **books** dataframe."
      ]
    },
    {
      "cell_type": "code",
      "metadata": {
        "id": "fYVG89Qt4TXE",
        "colab_type": "code",
        "colab": {}
      },
      "source": [
        "#Using the pandas framework a dataset is created using the \"BooksDataSet.csv\" file.\n",
        "\n",
        "books=pd.read_csv('BooksDataSet.csv')\n",
        "\n",
        "#We only keep the 4 neccessary columns that we will be need. \n",
        "books=pd.DataFrame(books,columns=['book_id','book_name','genre','summary'])"
      ],
      "execution_count": 0,
      "outputs": []
    },
    {
      "cell_type": "markdown",
      "metadata": {
        "id": "9qIIHBW64i_u",
        "colab_type": "text"
      },
      "source": [
        "Displaying the **books** dataframe."
      ]
    },
    {
      "cell_type": "code",
      "metadata": {
        "id": "DdYRQ3nT4ooa",
        "colab_type": "code",
        "outputId": "4ee9f930-1e99-4e04-e60d-63187a00312f",
        "colab": {
          "base_uri": "https://localhost:8080/",
          "height": 436
        }
      },
      "source": [
        "#Display the books dataframe\n",
        "print(\"Snapshot of books dataframe\")\n",
        "books"
      ],
      "execution_count": 6,
      "outputs": [
        {
          "output_type": "stream",
          "text": [
            "Snapshot of books dataframe\n"
          ],
          "name": "stdout"
        },
        {
          "output_type": "execute_result",
          "data": {
            "text/html": [
              "<div>\n",
              "<style scoped>\n",
              "    .dataframe tbody tr th:only-of-type {\n",
              "        vertical-align: middle;\n",
              "    }\n",
              "\n",
              "    .dataframe tbody tr th {\n",
              "        vertical-align: top;\n",
              "    }\n",
              "\n",
              "    .dataframe thead th {\n",
              "        text-align: right;\n",
              "    }\n",
              "</style>\n",
              "<table border=\"1\" class=\"dataframe\">\n",
              "  <thead>\n",
              "    <tr style=\"text-align: right;\">\n",
              "      <th></th>\n",
              "      <th>book_id</th>\n",
              "      <th>book_name</th>\n",
              "      <th>genre</th>\n",
              "      <th>summary</th>\n",
              "    </tr>\n",
              "  </thead>\n",
              "  <tbody>\n",
              "    <tr>\n",
              "      <th>0</th>\n",
              "      <td>3248537</td>\n",
              "      <td>Drowned Wednesday</td>\n",
              "      <td>Fantasy</td>\n",
              "      <td>Drowned Wednesday is the first Trustee among ...</td>\n",
              "    </tr>\n",
              "    <tr>\n",
              "      <th>1</th>\n",
              "      <td>27796919</td>\n",
              "      <td>The Lost Hero</td>\n",
              "      <td>Fantasy</td>\n",
              "      <td>As the book opens, Jason awakens on a school ...</td>\n",
              "    </tr>\n",
              "    <tr>\n",
              "      <th>2</th>\n",
              "      <td>3910776</td>\n",
              "      <td>The Eyes of the Overworld</td>\n",
              "      <td>Fantasy</td>\n",
              "      <td>Cugel is easily persuaded by the merchant Fia...</td>\n",
              "    </tr>\n",
              "    <tr>\n",
              "      <th>3</th>\n",
              "      <td>5969644</td>\n",
              "      <td>Magic's Promise</td>\n",
              "      <td>Fantasy</td>\n",
              "      <td>The book opens with Herald-Mage Vanyel return...</td>\n",
              "    </tr>\n",
              "    <tr>\n",
              "      <th>4</th>\n",
              "      <td>3173445</td>\n",
              "      <td>Taran Wanderer</td>\n",
              "      <td>Fantasy</td>\n",
              "      <td>Taran and Gurgi have returned to Caer Dallben...</td>\n",
              "    </tr>\n",
              "    <tr>\n",
              "      <th>...</th>\n",
              "      <td>...</td>\n",
              "      <td>...</td>\n",
              "      <td>...</td>\n",
              "      <td>...</td>\n",
              "    </tr>\n",
              "    <tr>\n",
              "      <th>2995</th>\n",
              "      <td>10372180</td>\n",
              "      <td>White Death</td>\n",
              "      <td>Thriller</td>\n",
              "      <td>A Novel from the NUMA files, A Kurt Austin Ad...</td>\n",
              "    </tr>\n",
              "    <tr>\n",
              "      <th>2996</th>\n",
              "      <td>14504372</td>\n",
              "      <td>Venus with Pistol</td>\n",
              "      <td>Thriller</td>\n",
              "      <td>Gilbert Kemp is dealer specializing in antiqu...</td>\n",
              "    </tr>\n",
              "    <tr>\n",
              "      <th>2997</th>\n",
              "      <td>3617412</td>\n",
              "      <td>Blackwater</td>\n",
              "      <td>Thriller</td>\n",
              "      <td>\"How do you know when you're in too deep? Dav...</td>\n",
              "    </tr>\n",
              "    <tr>\n",
              "      <th>2998</th>\n",
              "      <td>11320975</td>\n",
              "      <td>The Rainbow and the Rose</td>\n",
              "      <td>Thriller</td>\n",
              "      <td>The story concerns the life of Johnnie Pascoe...</td>\n",
              "    </tr>\n",
              "    <tr>\n",
              "      <th>2999</th>\n",
              "      <td>17227674</td>\n",
              "      <td>Chiefs</td>\n",
              "      <td>Thriller</td>\n",
              "      <td>The First Chief: Will Henry Lee: The novel op...</td>\n",
              "    </tr>\n",
              "  </tbody>\n",
              "</table>\n",
              "<p>3000 rows × 4 columns</p>\n",
              "</div>"
            ],
            "text/plain": [
              "       book_id  ...                                            summary\n",
              "0      3248537  ...   Drowned Wednesday is the first Trustee among ...\n",
              "1     27796919  ...   As the book opens, Jason awakens on a school ...\n",
              "2      3910776  ...   Cugel is easily persuaded by the merchant Fia...\n",
              "3      5969644  ...   The book opens with Herald-Mage Vanyel return...\n",
              "4      3173445  ...   Taran and Gurgi have returned to Caer Dallben...\n",
              "...        ...  ...                                                ...\n",
              "2995  10372180  ...   A Novel from the NUMA files, A Kurt Austin Ad...\n",
              "2996  14504372  ...   Gilbert Kemp is dealer specializing in antiqu...\n",
              "2997   3617412  ...   \"How do you know when you're in too deep? Dav...\n",
              "2998  11320975  ...   The story concerns the life of Johnnie Pascoe...\n",
              "2999  17227674  ...   The First Chief: Will Henry Lee: The novel op...\n",
              "\n",
              "[3000 rows x 4 columns]"
            ]
          },
          "metadata": {
            "tags": []
          },
          "execution_count": 6
        }
      ]
    },
    {
      "cell_type": "markdown",
      "metadata": {
        "id": "WllLU2V44s6C",
        "colab_type": "text"
      },
      "source": [
        "**Group our dataset by \"genre\"** and see that we have 500 rows dedicated to each of the 6 genres."
      ]
    },
    {
      "cell_type": "code",
      "metadata": {
        "id": "e0rpYJ0Q4rfh",
        "colab_type": "code",
        "outputId": "70b5caae-4e1c-4b51-fce1-a89be8c2986a",
        "colab": {
          "base_uri": "https://localhost:8080/",
          "height": 266
        }
      },
      "source": [
        "#Grouping all the rows by genre.\n",
        "\n",
        "\n",
        "books.groupby('genre').count()"
      ],
      "execution_count": 7,
      "outputs": [
        {
          "output_type": "execute_result",
          "data": {
            "text/html": [
              "<div>\n",
              "<style scoped>\n",
              "    .dataframe tbody tr th:only-of-type {\n",
              "        vertical-align: middle;\n",
              "    }\n",
              "\n",
              "    .dataframe tbody tr th {\n",
              "        vertical-align: top;\n",
              "    }\n",
              "\n",
              "    .dataframe thead th {\n",
              "        text-align: right;\n",
              "    }\n",
              "</style>\n",
              "<table border=\"1\" class=\"dataframe\">\n",
              "  <thead>\n",
              "    <tr style=\"text-align: right;\">\n",
              "      <th></th>\n",
              "      <th>book_id</th>\n",
              "      <th>book_name</th>\n",
              "      <th>summary</th>\n",
              "    </tr>\n",
              "    <tr>\n",
              "      <th>genre</th>\n",
              "      <th></th>\n",
              "      <th></th>\n",
              "      <th></th>\n",
              "    </tr>\n",
              "  </thead>\n",
              "  <tbody>\n",
              "    <tr>\n",
              "      <th>Crime Fiction</th>\n",
              "      <td>500</td>\n",
              "      <td>500</td>\n",
              "      <td>500</td>\n",
              "    </tr>\n",
              "    <tr>\n",
              "      <th>Fantasy</th>\n",
              "      <td>500</td>\n",
              "      <td>500</td>\n",
              "      <td>500</td>\n",
              "    </tr>\n",
              "    <tr>\n",
              "      <th>Historical novel</th>\n",
              "      <td>500</td>\n",
              "      <td>500</td>\n",
              "      <td>500</td>\n",
              "    </tr>\n",
              "    <tr>\n",
              "      <th>Horror</th>\n",
              "      <td>500</td>\n",
              "      <td>500</td>\n",
              "      <td>500</td>\n",
              "    </tr>\n",
              "    <tr>\n",
              "      <th>Science Fiction</th>\n",
              "      <td>500</td>\n",
              "      <td>500</td>\n",
              "      <td>500</td>\n",
              "    </tr>\n",
              "    <tr>\n",
              "      <th>Thriller</th>\n",
              "      <td>500</td>\n",
              "      <td>500</td>\n",
              "      <td>500</td>\n",
              "    </tr>\n",
              "  </tbody>\n",
              "</table>\n",
              "</div>"
            ],
            "text/plain": [
              "                  book_id  book_name  summary\n",
              "genre                                        \n",
              "Crime Fiction         500        500      500\n",
              "Fantasy               500        500      500\n",
              "Historical novel      500        500      500\n",
              "Horror                500        500      500\n",
              "Science Fiction       500        500      500\n",
              "Thriller              500        500      500"
            ]
          },
          "metadata": {
            "tags": []
          },
          "execution_count": 7
        }
      ]
    },
    {
      "cell_type": "markdown",
      "metadata": {
        "id": "OADa-HqORrHV",
        "colab_type": "text"
      },
      "source": [
        "**Data pre-processing**"
      ]
    },
    {
      "cell_type": "markdown",
      "metadata": {
        "id": "JlVswdX645U-",
        "colab_type": "text"
      },
      "source": [
        "**Preprocessing the \"summary\"** column and making it ready for prediction.\n",
        "\n",
        "\n",
        "*   At first the the \"summary\" is traversed and only the alphabets are kept while filtering out everything else and then the alphabets are converted into lowercase.\n",
        "\n",
        "*   The most common words also known as stop words are removed.\n",
        "\n",
        "*   Lemmatization is performed.\n",
        "\n",
        "*   Stemming is performed.\n"
      ]
    },
    {
      "cell_type": "markdown",
      "metadata": {
        "id": "_QFK2Cxa5Aks",
        "colab_type": "text"
      },
      "source": [
        "**Step 1.** Filtering out any character which is not an alphabet and then converting each character into lowercase from column 'summary'"
      ]
    },
    {
      "cell_type": "code",
      "metadata": {
        "id": "bnto4bQG4-9a",
        "colab_type": "code",
        "outputId": "58818b85-c8a2-4512-db69-f18e2f301d32",
        "colab": {
          "base_uri": "https://localhost:8080/",
          "height": 272
        }
      },
      "source": [
        "#Displaying \"summary\" before preprocessing begins.\n",
        "\n",
        "print(\"Snapshot of books['summary']\\n\\n\")\n",
        "books['summary']"
      ],
      "execution_count": 8,
      "outputs": [
        {
          "output_type": "stream",
          "text": [
            "Snapshot of books['summary']\n",
            "\n",
            "\n"
          ],
          "name": "stdout"
        },
        {
          "output_type": "execute_result",
          "data": {
            "text/plain": [
              "0        Drowned Wednesday is the first Trustee among ...\n",
              "1        As the book opens, Jason awakens on a school ...\n",
              "2        Cugel is easily persuaded by the merchant Fia...\n",
              "3        The book opens with Herald-Mage Vanyel return...\n",
              "4        Taran and Gurgi have returned to Caer Dallben...\n",
              "                              ...                        \n",
              "2995     A Novel from the NUMA files, A Kurt Austin Ad...\n",
              "2996     Gilbert Kemp is dealer specializing in antiqu...\n",
              "2997     \"How do you know when you're in too deep? Dav...\n",
              "2998     The story concerns the life of Johnnie Pascoe...\n",
              "2999     The First Chief: Will Henry Lee: The novel op...\n",
              "Name: summary, Length: 3000, dtype: object"
            ]
          },
          "metadata": {
            "tags": []
          },
          "execution_count": 8
        }
      ]
    },
    {
      "cell_type": "code",
      "metadata": {
        "id": "F1fAUxFy5yj2",
        "colab_type": "code",
        "colab": {}
      },
      "source": [
        "# function for text cleaning\n",
        " \n",
        "def clean(text):\n",
        "    # remove backslash-apostrophe \n",
        "    text = re.sub(\"\\'\", \"\", text) \n",
        "    # remove everything except alphabets \n",
        "    text = re.sub(\"[^a-zA-Z]\",\" \",text) \n",
        "    # remove whitespaces \n",
        "    text = ' '.join(text.split()) \n",
        "    # convert text to lowercase \n",
        "    text = text.lower() \n",
        "    \n",
        "    return text\n",
        "\n",
        "books.loc[:,'summary']=books.loc[:,'summary'].apply(lambda x: clean(x))\n"
      ],
      "execution_count": 0,
      "outputs": []
    },
    {
      "cell_type": "code",
      "metadata": {
        "id": "wB1nPgLu54q_",
        "colab_type": "code",
        "outputId": "258d5fb6-e98f-4b62-8bcc-5f6d51e48fb0",
        "colab": {
          "base_uri": "https://localhost:8080/",
          "height": 272
        }
      },
      "source": [
        "#Displaying \"summary\" after text-cleaning.\n",
        "\n",
        "print(\"Snapshot of books['summary']\\n\\n\")\n",
        "books['summary']"
      ],
      "execution_count": 10,
      "outputs": [
        {
          "output_type": "stream",
          "text": [
            "Snapshot of books['summary']\n",
            "\n",
            "\n"
          ],
          "name": "stdout"
        },
        {
          "output_type": "execute_result",
          "data": {
            "text/plain": [
              "0       drowned wednesday is the first trustee among t...\n",
              "1       as the book opens jason awakens on a school bu...\n",
              "2       cugel is easily persuaded by the merchant fian...\n",
              "3       the book opens with herald mage vanyel returni...\n",
              "4       taran and gurgi have returned to caer dallben ...\n",
              "                              ...                        \n",
              "2995    a novel from the numa files a kurt austin adve...\n",
              "2996    gilbert kemp is dealer specializing in antique...\n",
              "2997    how do you know when youre in too deep davey h...\n",
              "2998    the story concerns the life of johnnie pascoe ...\n",
              "2999    the first chief will henry lee the novel opens...\n",
              "Name: summary, Length: 3000, dtype: object"
            ]
          },
          "metadata": {
            "tags": []
          },
          "execution_count": 10
        }
      ]
    },
    {
      "cell_type": "markdown",
      "metadata": {
        "id": "LsRhxYIYVDrA",
        "colab_type": "text"
      },
      "source": [
        "The function **freqwords** will visualize the words and their frequency in a set of documents. It is used to find out the most frequent words in the book's summary:"
      ]
    },
    {
      "cell_type": "code",
      "metadata": {
        "colab_type": "code",
        "outputId": "0be8a845-23b8-4153-af2e-a00a3b11d6c4",
        "id": "CPbCW9QqVS0h",
        "colab": {
          "base_uri": "https://localhost:8080/",
          "height": 928
        }
      },
      "source": [
        "#Function to visualize the words and frequency in book's summary.\n",
        "\n",
        "print(\"Graph to visualize the words and frequency in book's summary.\\n\\n\")\n",
        "\n",
        "def freqwords(x, terms): \n",
        "  allwords = ' '.join([text for text in x]) \n",
        "  allwords = allwords.split() \n",
        "  fdist = nltk.FreqDist(allwords) \n",
        "  wordsdf = pd.DataFrame({'word':list(fdist.keys()), 'count':list(fdist.values())}) \n",
        "  \n",
        "  \n",
        "  d = wordsdf.nlargest(columns=\"count\", n = terms) \n",
        "  \n",
        "  # visualize words and frequencies\n",
        "  plt.figure(figsize=(12,15)) \n",
        "  ax = sns.barplot(data=d, x= \"count\", y = \"word\") \n",
        "  ax.set(ylabel = 'Word') \n",
        "  plt.show()\n",
        "  \n",
        "# print 100 most frequent words \n",
        "freqwords(books['summary'], 100)"
      ],
      "execution_count": 11,
      "outputs": [
        {
          "output_type": "stream",
          "text": [
            "Graph to visualize the words and frequency in book's summary.\n",
            "\n",
            "\n"
          ],
          "name": "stdout"
        },
        {
          "output_type": "display_data",
          "data": {
            "image/png": "[encoded data removed]",
            "text/plain": [
              "<Figure size 864x1080 with 1 Axes>"
            ]
          },
          "metadata": {
            "tags": [],
            "needs_background": "light"
          }
        }
      ]
    },
    {
      "cell_type": "markdown",
      "metadata": {
        "id": "X--_NH8A57IO",
        "colab_type": "text"
      },
      "source": [
        "**Step 2.** Removing stop words from the column \"summary\".\n",
        "\n",
        "Another part of data cleaning is the **removal of stop words** – that is, common words like “the”, “a”, “an”. They are assumed to have no consequence over the classification process."
      ]
    },
    {
      "cell_type": "code",
      "metadata": {
        "id": "meg_agBl6UIT",
        "colab_type": "code",
        "outputId": "778b041b-32c5-45e5-e033-8435c261fb5c",
        "colab": {
          "base_uri": "https://localhost:8080/",
          "height": 51
        }
      },
      "source": [
        "nltk.download('stopwords')\n",
        "\n",
        "from nltk.corpus import stopwords\n",
        "stop_words = set(stopwords.words('english'))\n",
        "\n",
        "# function to remove stopwords\n",
        "def removestopwords(text):\n",
        "    no_stopword_text = [w for w in text.split() if not w in stop_words]\n",
        "    return ' '.join(no_stopword_text)\n",
        "\n",
        "books['summary'] = books['summary'].apply(lambda x: removestopwords(x))"
      ],
      "execution_count": 12,
      "outputs": [
        {
          "output_type": "stream",
          "text": [
            "[nltk_data] Downloading package stopwords to /root/nltk_data...\n",
            "[nltk_data]   Unzipping corpora/stopwords.zip.\n"
          ],
          "name": "stdout"
        }
      ]
    },
    {
      "cell_type": "code",
      "metadata": {
        "id": "Hy6PdiAN6Z69",
        "colab_type": "code",
        "outputId": "4266d5b0-d6b9-4b98-eba6-2d71c1cfa431",
        "colab": {
          "base_uri": "https://localhost:8080/",
          "height": 272
        }
      },
      "source": [
        "#Displaying \"summary\" after removing stop words\n",
        "\n",
        "print(\"Snapshot of books['summary']\\n\\n\")\n",
        "\n",
        "books['summary']"
      ],
      "execution_count": 13,
      "outputs": [
        {
          "output_type": "stream",
          "text": [
            "Snapshot of books['summary']\n",
            "\n",
            "\n"
          ],
          "name": "stdout"
        },
        {
          "output_type": "execute_result",
          "data": {
            "text/plain": [
              "0       drowned wednesday first trustee among morrow d...\n",
              "1       book opens jason awakens school bus unable rem...\n",
              "2       cugel easily persuaded merchant fianosther att...\n",
              "3       book opens herald mage vanyel returning countr...\n",
              "4       taran gurgi returned caer dallben following ev...\n",
              "                              ...                        \n",
              "2995    novel numa files kurt austin adventure novel m...\n",
              "2996    gilbert kemp dealer specializing antique guns ...\n",
              "2997    know youre deep davey always lived shadow olde...\n",
              "2998    story concerns life johnnie pascoe retired com...\n",
              "2999    first chief henry lee novel opens growing town...\n",
              "Name: summary, Length: 3000, dtype: object"
            ]
          },
          "metadata": {
            "tags": []
          },
          "execution_count": 13
        }
      ]
    },
    {
      "cell_type": "markdown",
      "metadata": {
        "id": "MBVohHje6hvj",
        "colab_type": "text"
      },
      "source": [
        "3) **Lemmatization** on 'summary'\n",
        "\n",
        "Greater the degree of randomness, greater would be the computation time, and lesser would be the efficiency of the detection of patterns in the textual corpora. We introduced the module which performs lemmatization on words, that is, **it groups different versions of the same word into one – for example, “do/doing/does/did”, “go/going/goes/went”** – so as to not let the algorithm treat similar words as different, and hence, make the analysis stronger."
      ]
    },
    {
      "cell_type": "code",
      "metadata": {
        "id": "YWQSjS2Y6eVX",
        "colab_type": "code",
        "outputId": "d33ab842-9859-449c-b3c9-d6688919eeb6",
        "colab": {
          "base_uri": "https://localhost:8080/",
          "height": 51
        }
      },
      "source": [
        "nltk.download('wordnet')\n",
        "from nltk.stem import WordNetLemmatizer\n",
        "\n",
        "lemma=WordNetLemmatizer()\n",
        "\n",
        "def lematizing(sentence):\n",
        "    stemSentence = \"\"\n",
        "    for word in sentence.split():\n",
        "        stem = lemma.lemmatize(word)\n",
        "        stemSentence += stem\n",
        "        stemSentence += \" \"\n",
        "    stemSentence = stemSentence.strip()\n",
        "    return stemSentence\n",
        "\n",
        "\n",
        "books['summary'] = books['summary'].apply(lambda x: lematizing(x))"
      ],
      "execution_count": 14,
      "outputs": [
        {
          "output_type": "stream",
          "text": [
            "[nltk_data] Downloading package wordnet to /root/nltk_data...\n",
            "[nltk_data]   Unzipping corpora/wordnet.zip.\n"
          ],
          "name": "stdout"
        }
      ]
    },
    {
      "cell_type": "code",
      "metadata": {
        "id": "3ShvZYCP6rHO",
        "colab_type": "code",
        "outputId": "d807fd92-1682-4798-e487-f46685313dfb",
        "colab": {
          "base_uri": "https://localhost:8080/",
          "height": 272
        }
      },
      "source": [
        "#Displaying \"summary\" after Lemmmatization\n",
        "\n",
        "print(\"Snapshot of books['summary']\\n\\n\")\n",
        "\n",
        "books['summary']"
      ],
      "execution_count": 15,
      "outputs": [
        {
          "output_type": "stream",
          "text": [
            "Snapshot of books['summary']\n",
            "\n",
            "\n"
          ],
          "name": "stdout"
        },
        {
          "output_type": "execute_result",
          "data": {
            "text/plain": [
              "0       drowned wednesday first trustee among morrow d...\n",
              "1       book open jason awakens school bus unable reme...\n",
              "2       cugel easily persuaded merchant fianosther att...\n",
              "3       book open herald mage vanyel returning country...\n",
              "4       taran gurgi returned caer dallben following ev...\n",
              "                              ...                        \n",
              "2995    novel numa file kurt austin adventure novel ma...\n",
              "2996    gilbert kemp dealer specializing antique gun l...\n",
              "2997    know youre deep davey always lived shadow olde...\n",
              "2998    story concern life johnnie pascoe retired comm...\n",
              "2999    first chief henry lee novel open growing town ...\n",
              "Name: summary, Length: 3000, dtype: object"
            ]
          },
          "metadata": {
            "tags": []
          },
          "execution_count": 15
        }
      ]
    },
    {
      "cell_type": "markdown",
      "metadata": {
        "id": "OC1mKYe1RWjV",
        "colab_type": "text"
      },
      "source": [
        "4) **Stemming** on 'summary'\n",
        "\n",
        "**Stemming is the process of producing morphological variants of a root/base word.** Stemming programs are commonly referred to as stemming algorithms or stemmers. A stemming algorithm reduces **the words “chocolates”, “chocolatey”, “choco” to the root word, “chocolate” and “retrieval”, “retrieved”, “retrieves” reduce to the stem “retrieve”**."
      ]
    },
    {
      "cell_type": "code",
      "metadata": {
        "id": "V3cXXPyIRUWe",
        "colab_type": "code",
        "colab": {}
      },
      "source": [
        "from nltk.stem import PorterStemmer\n",
        "stemmer = PorterStemmer()\n",
        "def stemming(sentence):\n",
        "    stemSentence = \"\"\n",
        "    for word in sentence.split():\n",
        "        stem = stemmer.stem(word)\n",
        "        stemSentence += stem\n",
        "        stemSentence += \" \"\n",
        "    stemSentence = stemSentence.strip()\n",
        "    return stemSentence\n",
        "\n",
        "\n",
        "books['summary'] = books['summary'].apply(lambda x: stemming(x))"
      ],
      "execution_count": 0,
      "outputs": []
    },
    {
      "cell_type": "code",
      "metadata": {
        "id": "Vg6xu-CnRrjc",
        "colab_type": "code",
        "outputId": "00cd204c-bc5b-4e92-a83c-3bd80ce049e0",
        "colab": {
          "base_uri": "https://localhost:8080/",
          "height": 272
        }
      },
      "source": [
        "#Displaying \"summary\" after Stemming\n",
        "\n",
        "print(\"Snapshot of books['summary']\\n\\n\")\n",
        "\n",
        "books['summary']"
      ],
      "execution_count": 17,
      "outputs": [
        {
          "output_type": "stream",
          "text": [
            "Snapshot of books['summary']\n",
            "\n",
            "\n"
          ],
          "name": "stdout"
        },
        {
          "output_type": "execute_result",
          "data": {
            "text/plain": [
              "0       drown wednesday first truste among morrow day ...\n",
              "1       book open jason awaken school bu unabl rememb ...\n",
              "2       cugel easili persuad merchant fianosth attempt...\n",
              "3       book open herald mage vanyel return countri va...\n",
              "4       taran gurgi return caer dallben follow event t...\n",
              "                              ...                        \n",
              "2995    novel numa file kurt austin adventur novel mai...\n",
              "2996    gilbert kemp dealer special antiqu gun london ...\n",
              "2997    know your deep davey alway live shadow older b...\n",
              "2998    stori concern life johnni pasco retir commerci...\n",
              "2999    first chief henri lee novel open grow town del...\n",
              "Name: summary, Length: 3000, dtype: object"
            ]
          },
          "metadata": {
            "tags": []
          },
          "execution_count": 17
        }
      ]
    },
    {
      "cell_type": "markdown",
      "metadata": {
        "id": "Ehq7UChMVzkz",
        "colab_type": "text"
      },
      "source": [
        "Visualizing  the words in book's summary once again after successfully pre-processing."
      ]
    },
    {
      "cell_type": "code",
      "metadata": {
        "id": "E-UoMcepUAeQ",
        "colab_type": "code",
        "outputId": "beabe500-9890-4f7a-c2b5-61dc050bc9e5",
        "colab": {
          "base_uri": "https://localhost:8080/",
          "height": 877
        }
      },
      "source": [
        "#Function to visualize the words and frequency in book's summary.\n",
        "\n",
        "\n",
        "# print 100 most frequent words \n",
        "freqwords(books['summary'], 100)"
      ],
      "execution_count": 18,
      "outputs": [
        {
          "output_type": "display_data",
          "data": {
            "image/png": "[encoded data removed]",
            "text/plain": [
              "<Figure size 864x1080 with 1 Axes>"
            ]
          },
          "metadata": {
            "tags": [],
            "needs_background": "light"
          }
        }
      ]
    },
    {
      "cell_type": "markdown",
      "metadata": {
        "id": "6e6s5UOGWQ79",
        "colab_type": "text"
      },
      "source": [
        "**Converting Text in Books dataset to Features**"
      ]
    },
    {
      "cell_type": "markdown",
      "metadata": {
        "id": "1qon_nj2u3nI",
        "colab_type": "text"
      },
      "source": [
        "Now, we **denote an unique number to each of the 6 genres** from 0 - 5"
      ]
    },
    {
      "cell_type": "code",
      "metadata": {
        "id": "JZ7Zy8chSCbu",
        "colab_type": "code",
        "colab": {}
      },
      "source": [
        "#Labeling each 'genre' with an unique number \n",
        "\n",
        "from sklearn.preprocessing import LabelEncoder\n",
        "\n",
        "LE = LabelEncoder()\n",
        "\n",
        "y=LE.fit_transform(books['genre'])\n"
      ],
      "execution_count": 0,
      "outputs": []
    },
    {
      "cell_type": "markdown",
      "metadata": {
        "id": "87lDyg7rvgGZ",
        "colab_type": "text"
      },
      "source": [
        "The mapping is 1:1\n",
        "\n",
        "**Crime Fiction    -  0**\n",
        "\n",
        "**Fantasy          -  1**\n",
        "\n",
        "**Historical novel -  2**\n",
        "\n",
        "**Horror           -  3**\n",
        "\n",
        "**Science Fiction  -  4**\n",
        "\n",
        "**Thriller         -  5** "
      ]
    },
    {
      "cell_type": "code",
      "metadata": {
        "id": "IADBUHXGSD-K",
        "colab_type": "code",
        "outputId": "bc612aea-ee07-4d1a-9f3d-bb725c68529e",
        "colab": {
          "base_uri": "https://localhost:8080/",
          "height": 51
        }
      },
      "source": [
        "#perform inverse mapping on the unique numbers representing a genre.\n",
        "\n",
        "\n",
        "\n",
        "LE.inverse_transform([0,1,2,3,4,5])"
      ],
      "execution_count": 20,
      "outputs": [
        {
          "output_type": "execute_result",
          "data": {
            "text/plain": [
              "array(['Crime Fiction', 'Fantasy', 'Historical novel', 'Horror',\n",
              "       'Science Fiction', 'Thriller'], dtype=object)"
            ]
          },
          "metadata": {
            "tags": []
          },
          "execution_count": 20
        }
      ]
    },
    {
      "cell_type": "markdown",
      "metadata": {
        "id": "9Bg6xpNxFyJ_",
        "colab_type": "text"
      },
      "source": [
        "**Fitting the models**"
      ]
    },
    {
      "cell_type": "markdown",
      "metadata": {
        "id": "dN9yti7-SZ9Q",
        "colab_type": "text"
      },
      "source": [
        "**1.** At first a **80-20% split** was performed on the dataset"
      ]
    },
    {
      "cell_type": "code",
      "metadata": {
        "id": "wvoMPaTFSZC1",
        "colab_type": "code",
        "colab": {}
      },
      "source": [
        "xtrain, xval, ytrain, yval = train_test_split(books['summary'], y, test_size=0.2, random_state=557) "
      ],
      "execution_count": 0,
      "outputs": []
    },
    {
      "cell_type": "markdown",
      "metadata": {
        "id": "WNSXRDGZxQEW",
        "colab_type": "text"
      },
      "source": [
        "**tf-idf was performed on \"summary\" for both train(i.e xtrain) and test(i.e xval).**\n",
        "\n",
        "**tf–idf** or TFIDF, short for **term frequency–inverse document frequency**, is a numerical statistic that is intended to reflect how important a word is to a document in a collection or corpus.\n",
        "\n",
        "\n",
        "**tf(t)** = (Number of times term t appears in a document) / (Total number of terms in the document).\n",
        "\n",
        "**idf(t)** = log_e(Total number of documents / Number of documents with term t in it)."
      ]
    },
    {
      "cell_type": "code",
      "metadata": {
        "id": "mJXZoVHCStjD",
        "colab_type": "code",
        "colab": {}
      },
      "source": [
        "#Performing tf-idf \n",
        "\n",
        "tfidf_vectorizer = TfidfVectorizer(max_df=0.8, max_features=10000)\n",
        "\n",
        "xtrain_tfidf = tfidf_vectorizer.fit_transform(xtrain.values.astype('U'))\n",
        "\n",
        "xval_tfidf = tfidf_vectorizer.transform(xval.values.astype('U'))\n"
      ],
      "execution_count": 0,
      "outputs": []
    },
    {
      "cell_type": "markdown",
      "metadata": {
        "id": "eA7CVZjQTcLO",
        "colab_type": "text"
      },
      "source": [
        "**Using Logistic Regression**\n",
        "\n",
        "Logistic Regression is used when the **dependent variable( target ) is categorical**.\n",
        "\n",
        "logistic regressions are only binary classifiers, meaning they cannot handle target vectors with more than two classes. However, there are clever extensions to logistic regression to do just that. In one-vs-rest logistic regression (OVR) a separate model is trained for each class predicted whether an observation is that class or not (thus making it a binary classification problem). It assumes that each classification problem (e.g. class 0 or not) is independent."
      ]
    },
    {
      "cell_type": "code",
      "metadata": {
        "id": "n3_HstvETg80",
        "colab_type": "code",
        "outputId": "5bb062a9-cfa5-470e-b2ac-cbf00a609b8d",
        "colab": {
          "base_uri": "https://localhost:8080/",
          "height": 289
        }
      },
      "source": [
        "\n",
        "start=datetime.now()\n",
        "\n",
        "from sklearn.linear_model import LogisticRegression\n",
        "\n",
        "# Binary Relevance.\n",
        "from sklearn.multiclass import OneVsRestClassifier\n",
        "\n",
        "# Performance metric.\n",
        "from sklearn.metrics import accuracy_score\n",
        "\n",
        "lr = LogisticRegression()\n",
        "clf = OneVsRestClassifier(lr)\n",
        "\n",
        "# fit model on train data.\n",
        "clf.fit(xtrain_tfidf, ytrain)\n",
        "\n",
        "# make predictions for validation set.\n",
        "y_pred_lr = clf.predict(xval_tfidf)\n",
        "\n",
        "\n",
        "from sklearn.metrics import accuracy_score \n",
        "from sklearn.metrics import classification_report \n",
        "  \n",
        "\n",
        "#Calculating the accuracy.\n",
        "print( 'Accuracy Score :',accuracy_score(yval,y_pred_lr) )\n",
        "\n",
        "#Printing the classification report.\n",
        "print ('Report : ')\n",
        "print(classification_report(yval,y_pred_lr))\n",
        "\n",
        "print(\"Executed in \",datetime.now()-start)"
      ],
      "execution_count": 23,
      "outputs": [
        {
          "output_type": "stream",
          "text": [
            "Accuracy Score : 0.785\n",
            "Report : \n",
            "              precision    recall  f1-score   support\n",
            "\n",
            "           0       0.79      0.82      0.80       102\n",
            "           1       0.69      0.78      0.73        89\n",
            "           2       0.83      0.86      0.84       110\n",
            "           3       0.80      0.73      0.76       100\n",
            "           4       0.82      0.80      0.81        97\n",
            "           5       0.78      0.71      0.74       102\n",
            "\n",
            "    accuracy                           0.79       600\n",
            "   macro avg       0.78      0.78      0.78       600\n",
            "weighted avg       0.79      0.79      0.78       600\n",
            "\n",
            "Executed in  0:00:00.715890\n"
          ],
          "name": "stdout"
        }
      ]
    },
    {
      "cell_type": "markdown",
      "metadata": {
        "id": "6JXp2cR6HLuy",
        "colab_type": "text"
      },
      "source": [
        "**Using SVM**\n",
        "\n",
        " SVMs try to find a separating line(or hyperplane) between data of two classes. SVM is an algorithm that takes the data as an input and outputs a line that separates those classes if possible.\n",
        "\n",
        " According to the SVM algorithm we find the points closest to the line from both the classes.These points are called support vectors. Now, we compute the distance between the line and the support vectors. This distance is called the margin. Our goal is to maximize the margin. The hyperplane for which the margin is maximum is the optimal hyperplane.\n",
        "\n",
        " Thus SVM tries to make a decision boundary in such a way that the separation between the two classes(that street) is as wide as possible.\n",
        "\n",
        "\n",
        " The linear, polynomial and RBF or Gaussian kernel are simply different in case of making the hyperplane decision boundary between the classes.\n",
        "The kernel functions are used to map the original dataset (linear/nonlinear ) into a higher dimensional space with view to making it linear dataset.\n",
        "\n",
        "Usually linear and polynomial kernels are less time consuming and provides less accuracy than the rbf or Gaussian kernels."
      ]
    },
    {
      "cell_type": "markdown",
      "metadata": {
        "id": "snW-sIMPT8l8",
        "colab_type": "text"
      },
      "source": [
        "**--SVM('linear')--**"
      ]
    },
    {
      "cell_type": "code",
      "metadata": {
        "id": "Mq-xzxitT2C-",
        "colab_type": "code",
        "outputId": "d2fce796-d5ec-4534-befc-ad7d9d6fb5db",
        "colab": {
          "base_uri": "https://localhost:8080/",
          "height": 289
        }
      },
      "source": [
        "start=datetime.now()\n",
        "\n",
        "from sklearn import svm\n",
        "\n",
        "svc = svm.SVC(kernel='linear').fit(xtrain_tfidf,ytrain)\n",
        "\n",
        "svpred=svc.predict(xval_tfidf)\n",
        "\n",
        "from sklearn.metrics import accuracy_score \n",
        "from sklearn.metrics import classification_report \n",
        "  \n",
        "\n",
        "\n",
        "print( 'Accuracy Score :',accuracy_score(yval,svpred) )\n",
        "print ('Report : ')\n",
        "print(classification_report(yval,svpred))\n",
        "\n",
        "print(\"Executed in \",datetime.now()-start)"
      ],
      "execution_count": 24,
      "outputs": [
        {
          "output_type": "stream",
          "text": [
            "Accuracy Score : 0.7633333333333333\n",
            "Report : \n",
            "              precision    recall  f1-score   support\n",
            "\n",
            "           0       0.81      0.79      0.80       102\n",
            "           1       0.69      0.72      0.70        89\n",
            "           2       0.81      0.87      0.84       110\n",
            "           3       0.74      0.73      0.73       100\n",
            "           4       0.79      0.75      0.77        97\n",
            "           5       0.73      0.70      0.71       102\n",
            "\n",
            "    accuracy                           0.76       600\n",
            "   macro avg       0.76      0.76      0.76       600\n",
            "weighted avg       0.76      0.76      0.76       600\n",
            "\n",
            "Executed in  0:00:12.215113\n"
          ],
          "name": "stdout"
        }
      ]
    },
    {
      "cell_type": "markdown",
      "metadata": {
        "id": "WUeED80DUmtp",
        "colab_type": "text"
      },
      "source": [
        "**--SVM(kernel=rbf)--**"
      ]
    },
    {
      "cell_type": "code",
      "metadata": {
        "id": "UuUia4CgUMLu",
        "colab_type": "code",
        "outputId": "0fc7a974-cb13-4de0-b0e4-f7e9c8eb9879",
        "colab": {
          "base_uri": "https://localhost:8080/",
          "height": 289
        }
      },
      "source": [
        "start=datetime.now()\n",
        "\n",
        "from sklearn import svm\n",
        "\n",
        "svc = svm.SVC(kernel='rbf',gamma=1).fit(xtrain_tfidf,ytrain)\n",
        "\n",
        "svpred=svc.predict(xval_tfidf)\n",
        "\n",
        "from sklearn.metrics import accuracy_score \n",
        "from sklearn.metrics import classification_report \n",
        "  \n",
        "\n",
        "\n",
        "print( 'Accuracy Score :',accuracy_score(yval,svpred) )\n",
        "print ('Report : ')\n",
        "print(classification_report(yval,svpred))\n",
        "\n",
        "print(\"Executed in \",datetime.now()-start)"
      ],
      "execution_count": 25,
      "outputs": [
        {
          "output_type": "stream",
          "text": [
            "Accuracy Score : 0.775\n",
            "Report : \n",
            "              precision    recall  f1-score   support\n",
            "\n",
            "           0       0.84      0.78      0.81       102\n",
            "           1       0.67      0.76      0.71        89\n",
            "           2       0.84      0.85      0.84       110\n",
            "           3       0.77      0.72      0.74       100\n",
            "           4       0.83      0.77      0.80        97\n",
            "           5       0.71      0.75      0.73       102\n",
            "\n",
            "    accuracy                           0.78       600\n",
            "   macro avg       0.78      0.77      0.77       600\n",
            "weighted avg       0.78      0.78      0.78       600\n",
            "\n",
            "Executed in  0:00:13.221253\n"
          ],
          "name": "stdout"
        }
      ]
    },
    {
      "cell_type": "markdown",
      "metadata": {
        "colab_type": "text",
        "id": "4UDs_rXIIfz0"
      },
      "source": [
        "**2.** Next a **85-15% split** was performed on the dataset"
      ]
    },
    {
      "cell_type": "code",
      "metadata": {
        "colab_type": "code",
        "id": "aTV3SYGRVHcV",
        "colab": {}
      },
      "source": [
        "xtrain, xval, ytrain, yval = train_test_split(books['summary'], y, test_size=0.15, random_state=246) "
      ],
      "execution_count": 0,
      "outputs": []
    },
    {
      "cell_type": "markdown",
      "metadata": {
        "colab_type": "text",
        "id": "peEBqjQjJSll"
      },
      "source": [
        "**tf-idf was performed on \"summary\" for both train(i.e xtrain) and test(i.e xval).**\n"
      ]
    },
    {
      "cell_type": "code",
      "metadata": {
        "colab_type": "code",
        "id": "tI40mA9aJSln",
        "colab": {}
      },
      "source": [
        "#Performing tf-idf \n",
        "\n",
        "tfidf_vectorizer = TfidfVectorizer(max_df=0.8, max_features=10000)\n",
        "\n",
        "xtrain_tfidf = tfidf_vectorizer.fit_transform(xtrain.values.astype('U'))\n",
        "\n",
        "xval_tfidf = tfidf_vectorizer.transform(xval.values.astype('U'))\n"
      ],
      "execution_count": 0,
      "outputs": []
    },
    {
      "cell_type": "markdown",
      "metadata": {
        "colab_type": "text",
        "id": "rkoNZmFGJSls"
      },
      "source": [
        "**Using Logistic Regression**\n"
      ]
    },
    {
      "cell_type": "code",
      "metadata": {
        "colab_type": "code",
        "outputId": "7833d493-c73e-42e2-b2db-43d141d59584",
        "id": "2jVv2Q-KJSlt",
        "colab": {
          "base_uri": "https://localhost:8080/",
          "height": 289
        }
      },
      "source": [
        "start=datetime.now()\n",
        "\n",
        "from sklearn.linear_model import LogisticRegression\n",
        "\n",
        "# Binary Relevance.\n",
        "from sklearn.multiclass import OneVsRestClassifier\n",
        "\n",
        "# Performance metric.\n",
        "from sklearn.metrics import accuracy_score\n",
        "\n",
        "lr = LogisticRegression()\n",
        "clf = OneVsRestClassifier(lr)\n",
        "\n",
        "# fit model on train data.\n",
        "clf.fit(xtrain_tfidf, ytrain)\n",
        "\n",
        "# make predictions for validation set.\n",
        "y_pred_lr = clf.predict(xval_tfidf)\n",
        "\n",
        "\n",
        "from sklearn.metrics import accuracy_score \n",
        "from sklearn.metrics import classification_report \n",
        "  \n",
        "\n",
        "#Calculating the accuracy.\n",
        "print( 'Accuracy Score :',accuracy_score(yval,y_pred_lr) )\n",
        "\n",
        "#Printing the classification report.\n",
        "print ('Report : ')\n",
        "print(classification_report(yval,y_pred_lr))\n",
        "\n",
        "print(\"Executed in \",datetime.now()-start)"
      ],
      "execution_count": 28,
      "outputs": [
        {
          "output_type": "stream",
          "text": [
            "Accuracy Score : 0.7844444444444445\n",
            "Report : \n",
            "              precision    recall  f1-score   support\n",
            "\n",
            "           0       0.73      0.78      0.75        67\n",
            "           1       0.80      0.83      0.81        82\n",
            "           2       0.85      0.85      0.85        86\n",
            "           3       0.74      0.74      0.74        72\n",
            "           4       0.82      0.86      0.84        64\n",
            "           5       0.75      0.66      0.70        79\n",
            "\n",
            "    accuracy                           0.78       450\n",
            "   macro avg       0.78      0.78      0.78       450\n",
            "weighted avg       0.78      0.78      0.78       450\n",
            "\n",
            "Executed in  0:00:00.685264\n"
          ],
          "name": "stdout"
        }
      ]
    },
    {
      "cell_type": "markdown",
      "metadata": {
        "colab_type": "text",
        "id": "PfBbXdAwJSly"
      },
      "source": [
        "**Using SVM**\n"
      ]
    },
    {
      "cell_type": "markdown",
      "metadata": {
        "colab_type": "text",
        "id": "wqJk7LmmJSlz"
      },
      "source": [
        "**--SVM('linear')--**"
      ]
    },
    {
      "cell_type": "code",
      "metadata": {
        "colab_type": "code",
        "outputId": "a6e2ea46-6ffd-47df-ce46-9e13c32f7991",
        "id": "AMn9ssWaJSl2",
        "colab": {
          "base_uri": "https://localhost:8080/",
          "height": 289
        }
      },
      "source": [
        "start=datetime.now()\n",
        "\n",
        "from sklearn import svm\n",
        "\n",
        "svc = svm.SVC(kernel='linear').fit(xtrain_tfidf,ytrain)\n",
        "\n",
        "svpred=svc.predict(xval_tfidf)\n",
        "\n",
        "from sklearn.metrics import accuracy_score \n",
        "from sklearn.metrics import classification_report \n",
        "  \n",
        "\n",
        "\n",
        "print( 'Accuracy Score :',accuracy_score(yval,svpred) )\n",
        "print ('Report : ')\n",
        "print(classification_report(yval,svpred))\n",
        "\n",
        "print(\"Executed in \",datetime.now()-start)"
      ],
      "execution_count": 29,
      "outputs": [
        {
          "output_type": "stream",
          "text": [
            "Accuracy Score : 0.7822222222222223\n",
            "Report : \n",
            "              precision    recall  f1-score   support\n",
            "\n",
            "           0       0.77      0.73      0.75        67\n",
            "           1       0.78      0.84      0.81        82\n",
            "           2       0.86      0.84      0.85        86\n",
            "           3       0.70      0.75      0.72        72\n",
            "           4       0.84      0.83      0.83        64\n",
            "           5       0.74      0.70      0.72        79\n",
            "\n",
            "    accuracy                           0.78       450\n",
            "   macro avg       0.78      0.78      0.78       450\n",
            "weighted avg       0.78      0.78      0.78       450\n",
            "\n",
            "Executed in  0:00:13.150380\n"
          ],
          "name": "stdout"
        }
      ]
    },
    {
      "cell_type": "markdown",
      "metadata": {
        "colab_type": "text",
        "id": "7OhrWNpwJSl7"
      },
      "source": [
        "**--SVM(kernel=rbf)--**"
      ]
    },
    {
      "cell_type": "code",
      "metadata": {
        "colab_type": "code",
        "outputId": "92a3627b-a77d-4d24-8c4b-24daefeb75e5",
        "id": "ytZOaLDJJSl7",
        "colab": {
          "base_uri": "https://localhost:8080/",
          "height": 289
        }
      },
      "source": [
        "start=datetime.now()\n",
        "\n",
        "from sklearn import svm\n",
        "\n",
        "svc = svm.SVC(kernel='rbf',gamma=1).fit(xtrain_tfidf,ytrain)\n",
        "\n",
        "svpred=svc.predict(xval_tfidf)\n",
        "\n",
        "from sklearn.metrics import accuracy_score \n",
        "from sklearn.metrics import classification_report \n",
        "  \n",
        "\n",
        "\n",
        "print( 'Accuracy Score :',accuracy_score(yval,svpred) )\n",
        "print ('Report : ')\n",
        "print(classification_report(yval,svpred))\n",
        "\n",
        "print(\"Executed in \",datetime.now()-start)"
      ],
      "execution_count": 30,
      "outputs": [
        {
          "output_type": "stream",
          "text": [
            "Accuracy Score : 0.7955555555555556\n",
            "Report : \n",
            "              precision    recall  f1-score   support\n",
            "\n",
            "           0       0.77      0.75      0.76        67\n",
            "           1       0.80      0.88      0.84        82\n",
            "           2       0.87      0.85      0.86        86\n",
            "           3       0.73      0.75      0.74        72\n",
            "           4       0.86      0.86      0.86        64\n",
            "           5       0.74      0.68      0.71        79\n",
            "\n",
            "    accuracy                           0.80       450\n",
            "   macro avg       0.79      0.79      0.79       450\n",
            "weighted avg       0.80      0.80      0.79       450\n",
            "\n",
            "Executed in  0:00:14.350671\n"
          ],
          "name": "stdout"
        }
      ]
    },
    {
      "cell_type": "markdown",
      "metadata": {
        "id": "MUNaBR4qJrP0",
        "colab_type": "text"
      },
      "source": [
        "Thus we conclude that **highest accuracy** was obtained during a **85-15% split** while using a **svm with rbf as the kernel function.**\n",
        "\n",
        "The highest **accuracy is 79.55 %**"
      ]
    },
    {
      "cell_type": "markdown",
      "metadata": {
        "id": "90LTh_-EKK90",
        "colab_type": "text"
      },
      "source": [
        "Now, we **build an inference function for predicting the genres of new books in the future.**\n",
        "\n",
        "Our book genre prediction system should be able to take a book's summary in raw form as input and generate its genre tag.\n",
        "\n",
        "To achieve this the steps to be considered during building the function are -\n",
        "\n",
        "*   Clean the texts.\n",
        "*   Remove stopwords from the cleaned texts.\n",
        "*   Perform Lemmatization.\n",
        "*   Perform Stemming.\n",
        "*   Extract features from the text.\n",
        "*   Make predictions using svm with rbf as the kernel function.\n",
        "*   Return the predicted book genre tag.\n",
        "\n"
      ]
    },
    {
      "cell_type": "markdown",
      "metadata": {
        "id": "CUaAEfXaVpIC",
        "colab_type": "text"
      },
      "source": [
        "**Executing the inference function on SVM(kernel=rbf) to predict future unknown genre**"
      ]
    },
    {
      "cell_type": "code",
      "metadata": {
        "id": "FzL-eMalVooL",
        "colab_type": "code",
        "outputId": "d4e150bb-9d1e-4abc-bc6c-fe9e21284676",
        "colab": {
          "base_uri": "https://localhost:8080/",
          "height": 1000
        }
      },
      "source": [
        "start=datetime.now()\n",
        "\n",
        "def infertag(q):\n",
        "    q = clean(q)\n",
        "    q = removestopwords(q)\n",
        "    q = lematizing(q)\n",
        "    q = stemming(q)\n",
        "    q_vec = tfidf_vectorizer.transform([q])\n",
        "    q_pred = svc.predict(q_vec)\n",
        "    return LE.inverse_transform(q_pred)[0]\n",
        "    #return q_pred[0]\n",
        "\n",
        "\n",
        "for i in range(50): \n",
        "  k = xval.sample(1).index[0] \n",
        "  print(\"Book: \", books['book_name'][k], \"\\nPredicted genre: \", infertag(xval[k]),\"\\nActual genre: \",books['genre'][k], \"\\n\")\n",
        "\n",
        "print(\"Executed in \",datetime.now()-start)"
      ],
      "execution_count": 32,
      "outputs": [
        {
          "output_type": "stream",
          "text": [
            "Book:  The Mislaid Charm \n",
            "Predicted genre:  Fantasy \n",
            "Actual genre:  Fantasy \n",
            "\n",
            "Book:  To Reign in Hell: The Exile of Khan Noonien Singh \n",
            "Predicted genre:  Science Fiction \n",
            "Actual genre:  Science Fiction \n",
            "\n",
            "Book:  Beyond This Place \n",
            "Predicted genre:  Horror \n",
            "Actual genre:  Thriller \n",
            "\n",
            "Book:  The Seekers \n",
            "Predicted genre:  Historical novel \n",
            "Actual genre:  Historical novel \n",
            "\n",
            "Book:  The Collector \n",
            "Predicted genre:  Science Fiction \n",
            "Actual genre:  Horror \n",
            "\n",
            "Book:  This Perfect Day \n",
            "Predicted genre:  Science Fiction \n",
            "Actual genre:  Horror \n",
            "\n",
            "Book:  The Excalibur Alternative \n",
            "Predicted genre:  Science Fiction \n",
            "Actual genre:  Science Fiction \n",
            "\n",
            "Book:  Invaders from the Dark \n",
            "Predicted genre:  Horror \n",
            "Actual genre:  Horror \n",
            "\n",
            "Book:  Parasite Eve \n",
            "Predicted genre:  Science Fiction \n",
            "Actual genre:  Horror \n",
            "\n",
            "Book:  Blind Justice \n",
            "Predicted genre:  Historical novel \n",
            "Actual genre:  Historical novel \n",
            "\n",
            "Book:  Tyrannosaur Canyon \n",
            "Predicted genre:  Thriller \n",
            "Actual genre:  Thriller \n",
            "\n",
            "Book:  Angel Rock \n",
            "Predicted genre:  Horror \n",
            "Actual genre:  Crime Fiction \n",
            "\n",
            "Book:  The Leap \n",
            "Predicted genre:  Fantasy \n",
            "Actual genre:  Fantasy \n",
            "\n",
            "Book:  Ozoplaning with the Wizard of Oz \n",
            "Predicted genre:  Fantasy \n",
            "Actual genre:  Fantasy \n",
            "\n",
            "Book:  A Song of Stone \n",
            "Predicted genre:  Fantasy \n",
            "Actual genre:  Fantasy \n",
            "\n",
            "Book:  Sky Coyote \n",
            "Predicted genre:  Science Fiction \n",
            "Actual genre:  Science Fiction \n",
            "\n",
            "Book:  Undead and Uneasy \n",
            "Predicted genre:  Horror \n",
            "Actual genre:  Horror \n",
            "\n",
            "Book:  Chain of Attack \n",
            "Predicted genre:  Science Fiction \n",
            "Actual genre:  Science Fiction \n",
            "\n",
            "Book:  Death in Holy Orders \n",
            "Predicted genre:  Crime Fiction \n",
            "Actual genre:  Crime Fiction \n",
            "\n",
            "Book:  Tyrannosaur Canyon \n",
            "Predicted genre:  Thriller \n",
            "Actual genre:  Thriller \n",
            "\n",
            "Book:  Tyrannosaur Canyon \n",
            "Predicted genre:  Thriller \n",
            "Actual genre:  Thriller \n",
            "\n",
            "Book:  Yume No Hon: The Book of Dreams \n",
            "Predicted genre:  Fantasy \n",
            "Actual genre:  Fantasy \n",
            "\n",
            "Book:  By the Light of the Moon \n",
            "Predicted genre:  Fantasy \n",
            "Actual genre:  Thriller \n",
            "\n",
            "Book:  The Vampire Lestat \n",
            "Predicted genre:  Horror \n",
            "Actual genre:  Horror \n",
            "\n",
            "Book:  Angel-Seeker \n",
            "Predicted genre:  Fantasy \n",
            "Actual genre:  Fantasy \n",
            "\n",
            "Book:  The Road to Oz \n",
            "Predicted genre:  Fantasy \n",
            "Actual genre:  Fantasy \n",
            "\n",
            "Book:  Hawksong \n",
            "Predicted genre:  Fantasy \n",
            "Actual genre:  Horror \n",
            "\n",
            "Book:  Too Many Magicians \n",
            "Predicted genre:  Fantasy \n",
            "Actual genre:  Fantasy \n",
            "\n",
            "Book:  Gladiator at Law \n",
            "Predicted genre:  Science Fiction \n",
            "Actual genre:  Science Fiction \n",
            "\n",
            "Book:  Drowned Wednesday \n",
            "Predicted genre:  Fantasy \n",
            "Actual genre:  Fantasy \n",
            "\n",
            "Book:  Dragon Raja \n",
            "Predicted genre:  Fantasy \n",
            "Actual genre:  Fantasy \n",
            "\n",
            "Book:  The Way Through the Woods \n",
            "Predicted genre:  Crime Fiction \n",
            "Actual genre:  Crime Fiction \n",
            "\n",
            "Book:  Raptor \n",
            "Predicted genre:  Historical novel \n",
            "Actual genre:  Historical novel \n",
            "\n",
            "Book:  Line of Delirium \n",
            "Predicted genre:  Science Fiction \n",
            "Actual genre:  Science Fiction \n",
            "\n",
            "Book:  The Roving Party \n",
            "Predicted genre:  Crime Fiction \n",
            "Actual genre:  Historical novel \n",
            "\n",
            "Book:  The Kobayashi Maru \n",
            "Predicted genre:  Science Fiction \n",
            "Actual genre:  Science Fiction \n",
            "\n",
            "Book:  A Winter Haunting \n",
            "Predicted genre:  Horror \n",
            "Actual genre:  Horror \n",
            "\n",
            "Book:  Castle Roogna \n",
            "Predicted genre:  Fantasy \n",
            "Actual genre:  Fantasy \n",
            "\n",
            "Book:  Unknown man No. 89 \n",
            "Predicted genre:  Crime Fiction \n",
            "Actual genre:  Crime Fiction \n",
            "\n",
            "Book:  The Sight \n",
            "Predicted genre:  Fantasy \n",
            "Actual genre:  Fantasy \n",
            "\n",
            "Book:  Necroscope V: Deadspawn \n",
            "Predicted genre:  Horror \n",
            "Actual genre:  Horror \n",
            "\n",
            "Book:  Demon Theory \n",
            "Predicted genre:  Horror \n",
            "Actual genre:  Horror \n",
            "\n",
            "Book:  Eifelheim \n",
            "Predicted genre:  Science Fiction \n",
            "Actual genre:  Science Fiction \n",
            "\n",
            "Book:  Prime Directive \n",
            "Predicted genre:  Science Fiction \n",
            "Actual genre:  Science Fiction \n",
            "\n",
            "Book:  Faceless Killers: A Mystery \n",
            "Predicted genre:  Crime Fiction \n",
            "Actual genre:  Crime Fiction \n",
            "\n",
            "Book:  Angel Rock \n",
            "Predicted genre:  Horror \n",
            "Actual genre:  Crime Fiction \n",
            "\n",
            "Book:  Gladiator at Law \n",
            "Predicted genre:  Science Fiction \n",
            "Actual genre:  Science Fiction \n",
            "\n",
            "Book:  CHERUB: Maximum Security \n",
            "Predicted genre:  Thriller \n",
            "Actual genre:  Thriller \n",
            "\n",
            "Book:  The Dragon Knight \n",
            "Predicted genre:  Science Fiction \n",
            "Actual genre:  Fantasy \n",
            "\n",
            "Book:  Stork Naked \n",
            "Predicted genre:  Fantasy \n",
            "Actual genre:  Fantasy \n",
            "\n",
            "Executed in  0:00:00.662050\n"
          ],
          "name": "stdout"
        }
      ]
    }
  ]
}