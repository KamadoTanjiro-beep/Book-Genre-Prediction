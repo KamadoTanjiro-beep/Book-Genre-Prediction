{
  "nbformat": 4,
  "nbformat_minor": 0,
  "metadata": {
    "colab": {
      "name": "BookGenrePrediction.ipynb",
      "provenance": [],
      "collapsed_sections": [],
      "authorship_tag": "ABX9TyOW4gFAlxamvN6Dyek3OipV",
      "include_colab_link": true
    },
    "kernelspec": {
      "name": "python3",
      "display_name": "Python 3"
    },
    "accelerator": "GPU"
  },
  "cells": [
    {
      "cell_type": "markdown",
      "metadata": {
        "id": "view-in-github",
        "colab_type": "text"
      },
      "source": [
        "<a href=\"https://colab.research.google.com/github/Sirsho1997/Book-Genre-Prediction-using-Book-Summary/blob/master/BookGenrePrediction.ipynb\" target=\"_parent\"><img src=\"https://colab.research.google.com/assets/colab-badge.svg\" alt=\"Open In Colab\"/></a>"
      ]
    },
    {
      "cell_type": "markdown",
      "metadata": {
        "id": "vPi3497tnC5r"
      },
      "source": [
        "**The aim of this project is to apply the principles of text mining on a piece of literary text, and categorize it into the genre into which it best fits.**\n",
        "\n",
        "\n",
        "At the very begining we have to **import all the necessary packages**."
      ]
    },
    {
      "cell_type": "code",
      "metadata": {
        "id": "x-xt4t4z335u",
        "colab": {
          "base_uri": "https://localhost:8080/",
          "height": 71
        },
        "outputId": "aa5b03cc-c579-4f05-ef95-ed6209d66ac0"
      },
      "source": [
        "#Importing libraries.\n",
        "\n",
        "import pandas as pd\n",
        "import numpy as np\n",
        "import nltk\n",
        "import matplotlib.pyplot as plt \n",
        "import seaborn as sns\n",
        "import re\n",
        "from datetime import datetime\n",
        "from sklearn.feature_extraction.text import TfidfVectorizer\n",
        "from sklearn.model_selection import train_test_split\n"
      ],
      "execution_count": null,
      "outputs": [
        {
          "output_type": "stream",
          "text": [
            "/usr/local/lib/python3.6/dist-packages/statsmodels/tools/_testing.py:19: FutureWarning: pandas.util.testing is deprecated. Use the functions in the public API at pandas.testing instead.\n",
            "  import pandas.util.testing as tm\n"
          ],
          "name": "stderr"
        }
      ]
    },
    {
      "cell_type": "markdown",
      "metadata": {
        "id": "8x5llVwLoLJ8"
      },
      "source": [
        "The dataset that have been used here is a subset of the **CMU Book Summary Dataset** available at http://www.cs.cmu.edu/~dbamman/booksummaries.html .\n",
        "Dataset was unevenly distributed at the beginning. After days of data wrangling we could attain some uniformity in the dataset. The processed dataset has been uploaded as BookDataSet.csv , which has **6 main genres** - **\"Crime Fiction\", \"Fanstasy\", \"Historical novel\", \"Horror\", \"Science Fiction\", \"Thriller\"**."
      ]
    },
    {
      "cell_type": "markdown",
      "metadata": {
        "id": "93_Q4fGZ4UX-"
      },
      "source": [
        "**Load Data**\n",
        "\n",
        "Creating the **books** dataframe."
      ]
    },
    {
      "cell_type": "code",
      "metadata": {
        "id": "fYVG89Qt4TXE"
      },
      "source": [
        "#Using the pandas framework a dataset is created using the \"BooksDataSet.csv\" file.\n",
        "\n",
        "books=pd.read_csv('BooksDataSet.csv')\n",
        "\n",
        "#We only keep the 4 neccessary columns that we will be need. \n",
        "books=pd.DataFrame(books,columns=['book_id','book_name','genre','summary'])"
      ],
      "execution_count": null,
      "outputs": []
    },
    {
      "cell_type": "markdown",
      "metadata": {
        "id": "9qIIHBW64i_u"
      },
      "source": [
        "Displaying the **books** dataframe."
      ]
    },
    {
      "cell_type": "code",
      "metadata": {
        "id": "DdYRQ3nT4ooa",
        "colab": {
          "base_uri": "https://localhost:8080/",
          "height": 436
        },
        "outputId": "b8c40c50-dd57-4eca-ddeb-7a014ea818f3"
      },
      "source": [
        "#Display the books dataframe\n",
        "print(\"Snapshot of books dataframe\")\n",
        "books"
      ],
      "execution_count": null,
      "outputs": [
        {
          "output_type": "stream",
          "text": [
            "Snapshot of books dataframe\n"
          ],
          "name": "stdout"
        },
        {
          "output_type": "execute_result",
          "data": {
            "text/html": [
              "<div>\n",
              "<style scoped>\n",
              "    .dataframe tbody tr th:only-of-type {\n",
              "        vertical-align: middle;\n",
              "    }\n",
              "\n",
              "    .dataframe tbody tr th {\n",
              "        vertical-align: top;\n",
              "    }\n",
              "\n",
              "    .dataframe thead th {\n",
              "        text-align: right;\n",
              "    }\n",
              "</style>\n",
              "<table border=\"1\" class=\"dataframe\">\n",
              "  <thead>\n",
              "    <tr style=\"text-align: right;\">\n",
              "      <th></th>\n",
              "      <th>book_id</th>\n",
              "      <th>book_name</th>\n",
              "      <th>genre</th>\n",
              "      <th>summary</th>\n",
              "    </tr>\n",
              "  </thead>\n",
              "  <tbody>\n",
              "    <tr>\n",
              "      <th>0</th>\n",
              "      <td>3248537</td>\n",
              "      <td>Drowned Wednesday</td>\n",
              "      <td>Fantasy</td>\n",
              "      <td>Drowned Wednesday is the first Trustee among ...</td>\n",
              "    </tr>\n",
              "    <tr>\n",
              "      <th>1</th>\n",
              "      <td>27796919</td>\n",
              "      <td>The Lost Hero</td>\n",
              "      <td>Fantasy</td>\n",
              "      <td>As the book opens, Jason awakens on a school ...</td>\n",
              "    </tr>\n",
              "    <tr>\n",
              "      <th>2</th>\n",
              "      <td>3910776</td>\n",
              "      <td>The Eyes of the Overworld</td>\n",
              "      <td>Fantasy</td>\n",
              "      <td>Cugel is easily persuaded by the merchant Fia...</td>\n",
              "    </tr>\n",
              "    <tr>\n",
              "      <th>3</th>\n",
              "      <td>5969644</td>\n",
              "      <td>Magic's Promise</td>\n",
              "      <td>Fantasy</td>\n",
              "      <td>The book opens with Herald-Mage Vanyel return...</td>\n",
              "    </tr>\n",
              "    <tr>\n",
              "      <th>4</th>\n",
              "      <td>3173445</td>\n",
              "      <td>Taran Wanderer</td>\n",
              "      <td>Fantasy</td>\n",
              "      <td>Taran and Gurgi have returned to Caer Dallben...</td>\n",
              "    </tr>\n",
              "    <tr>\n",
              "      <th>...</th>\n",
              "      <td>...</td>\n",
              "      <td>...</td>\n",
              "      <td>...</td>\n",
              "      <td>...</td>\n",
              "    </tr>\n",
              "    <tr>\n",
              "      <th>2995</th>\n",
              "      <td>10372180</td>\n",
              "      <td>White Death</td>\n",
              "      <td>Thriller</td>\n",
              "      <td>A Novel from the NUMA files, A Kurt Austin Ad...</td>\n",
              "    </tr>\n",
              "    <tr>\n",
              "      <th>2996</th>\n",
              "      <td>14504372</td>\n",
              "      <td>Venus with Pistol</td>\n",
              "      <td>Thriller</td>\n",
              "      <td>Gilbert Kemp is dealer specializing in antiqu...</td>\n",
              "    </tr>\n",
              "    <tr>\n",
              "      <th>2997</th>\n",
              "      <td>3617412</td>\n",
              "      <td>Blackwater</td>\n",
              "      <td>Thriller</td>\n",
              "      <td>\"How do you know when you're in too deep? Dav...</td>\n",
              "    </tr>\n",
              "    <tr>\n",
              "      <th>2998</th>\n",
              "      <td>11320975</td>\n",
              "      <td>The Rainbow and the Rose</td>\n",
              "      <td>Thriller</td>\n",
              "      <td>The story concerns the life of Johnnie Pascoe...</td>\n",
              "    </tr>\n",
              "    <tr>\n",
              "      <th>2999</th>\n",
              "      <td>17227674</td>\n",
              "      <td>Chiefs</td>\n",
              "      <td>Thriller</td>\n",
              "      <td>The First Chief: Will Henry Lee: The novel op...</td>\n",
              "    </tr>\n",
              "  </tbody>\n",
              "</table>\n",
              "<p>3000 rows × 4 columns</p>\n",
              "</div>"
            ],
            "text/plain": [
              "       book_id  ...                                            summary\n",
              "0      3248537  ...   Drowned Wednesday is the first Trustee among ...\n",
              "1     27796919  ...   As the book opens, Jason awakens on a school ...\n",
              "2      3910776  ...   Cugel is easily persuaded by the merchant Fia...\n",
              "3      5969644  ...   The book opens with Herald-Mage Vanyel return...\n",
              "4      3173445  ...   Taran and Gurgi have returned to Caer Dallben...\n",
              "...        ...  ...                                                ...\n",
              "2995  10372180  ...   A Novel from the NUMA files, A Kurt Austin Ad...\n",
              "2996  14504372  ...   Gilbert Kemp is dealer specializing in antiqu...\n",
              "2997   3617412  ...   \"How do you know when you're in too deep? Dav...\n",
              "2998  11320975  ...   The story concerns the life of Johnnie Pascoe...\n",
              "2999  17227674  ...   The First Chief: Will Henry Lee: The novel op...\n",
              "\n",
              "[3000 rows x 4 columns]"
            ]
          },
          "metadata": {
            "tags": []
          },
          "execution_count": 3
        }
      ]
    },
    {
      "cell_type": "markdown",
      "metadata": {
        "id": "WllLU2V44s6C"
      },
      "source": [
        "**Group our dataset by \"genre\"** and see that we have 500 rows dedicated to each of the 6 genres."
      ]
    },
    {
      "cell_type": "code",
      "metadata": {
        "id": "e0rpYJ0Q4rfh",
        "colab": {
          "base_uri": "https://localhost:8080/",
          "height": 266
        },
        "outputId": "ffccc5c4-199d-4fbb-a042-bde349932e9d"
      },
      "source": [
        "#Grouping all the rows by genre.\n",
        "\n",
        "\n",
        "books.groupby('genre').count()"
      ],
      "execution_count": null,
      "outputs": [
        {
          "output_type": "execute_result",
          "data": {
            "text/html": [
              "<div>\n",
              "<style scoped>\n",
              "    .dataframe tbody tr th:only-of-type {\n",
              "        vertical-align: middle;\n",
              "    }\n",
              "\n",
              "    .dataframe tbody tr th {\n",
              "        vertical-align: top;\n",
              "    }\n",
              "\n",
              "    .dataframe thead th {\n",
              "        text-align: right;\n",
              "    }\n",
              "</style>\n",
              "<table border=\"1\" class=\"dataframe\">\n",
              "  <thead>\n",
              "    <tr style=\"text-align: right;\">\n",
              "      <th></th>\n",
              "      <th>book_id</th>\n",
              "      <th>book_name</th>\n",
              "      <th>summary</th>\n",
              "    </tr>\n",
              "    <tr>\n",
              "      <th>genre</th>\n",
              "      <th></th>\n",
              "      <th></th>\n",
              "      <th></th>\n",
              "    </tr>\n",
              "  </thead>\n",
              "  <tbody>\n",
              "    <tr>\n",
              "      <th>Crime Fiction</th>\n",
              "      <td>500</td>\n",
              "      <td>500</td>\n",
              "      <td>500</td>\n",
              "    </tr>\n",
              "    <tr>\n",
              "      <th>Fantasy</th>\n",
              "      <td>500</td>\n",
              "      <td>500</td>\n",
              "      <td>500</td>\n",
              "    </tr>\n",
              "    <tr>\n",
              "      <th>Historical novel</th>\n",
              "      <td>500</td>\n",
              "      <td>500</td>\n",
              "      <td>500</td>\n",
              "    </tr>\n",
              "    <tr>\n",
              "      <th>Horror</th>\n",
              "      <td>500</td>\n",
              "      <td>500</td>\n",
              "      <td>500</td>\n",
              "    </tr>\n",
              "    <tr>\n",
              "      <th>Science Fiction</th>\n",
              "      <td>500</td>\n",
              "      <td>500</td>\n",
              "      <td>500</td>\n",
              "    </tr>\n",
              "    <tr>\n",
              "      <th>Thriller</th>\n",
              "      <td>500</td>\n",
              "      <td>500</td>\n",
              "      <td>500</td>\n",
              "    </tr>\n",
              "  </tbody>\n",
              "</table>\n",
              "</div>"
            ],
            "text/plain": [
              "                  book_id  book_name  summary\n",
              "genre                                        \n",
              "Crime Fiction         500        500      500\n",
              "Fantasy               500        500      500\n",
              "Historical novel      500        500      500\n",
              "Horror                500        500      500\n",
              "Science Fiction       500        500      500\n",
              "Thriller              500        500      500"
            ]
          },
          "metadata": {
            "tags": []
          },
          "execution_count": 4
        }
      ]
    },
    {
      "cell_type": "markdown",
      "metadata": {
        "id": "OADa-HqORrHV"
      },
      "source": [
        "**Data pre-processing**"
      ]
    },
    {
      "cell_type": "markdown",
      "metadata": {
        "id": "JlVswdX645U-"
      },
      "source": [
        "**Preprocessing the \"summary\"** column and making it ready for prediction.\n",
        "\n",
        "\n",
        "*   At first the the \"summary\" is traversed and only the alphabets are kept while filtering out everything else and then the alphabets are converted into lowercase.\n",
        "\n",
        "*   The most common words also known as stop words are removed.\n",
        "\n",
        "*   Lemmatization is performed.\n",
        "\n",
        "*   Stemming is performed.\n"
      ]
    },
    {
      "cell_type": "markdown",
      "metadata": {
        "id": "_QFK2Cxa5Aks"
      },
      "source": [
        "**Step 1.** Filtering out any character which is not an alphabet and then converting each character into lowercase from column 'summary'"
      ]
    },
    {
      "cell_type": "code",
      "metadata": {
        "id": "bnto4bQG4-9a",
        "colab": {
          "base_uri": "https://localhost:8080/",
          "height": 272
        },
        "outputId": "29c4ad03-6505-468e-a066-e8da28d650dd"
      },
      "source": [
        "#Displaying \"summary\" before preprocessing begins.\n",
        "\n",
        "print(\"Snapshot of books['summary']\\n\\n\")\n",
        "books['summary']"
      ],
      "execution_count": null,
      "outputs": [
        {
          "output_type": "stream",
          "text": [
            "Snapshot of books['summary']\n",
            "\n",
            "\n"
          ],
          "name": "stdout"
        },
        {
          "output_type": "execute_result",
          "data": {
            "text/plain": [
              "0        Drowned Wednesday is the first Trustee among ...\n",
              "1        As the book opens, Jason awakens on a school ...\n",
              "2        Cugel is easily persuaded by the merchant Fia...\n",
              "3        The book opens with Herald-Mage Vanyel return...\n",
              "4        Taran and Gurgi have returned to Caer Dallben...\n",
              "                              ...                        \n",
              "2995     A Novel from the NUMA files, A Kurt Austin Ad...\n",
              "2996     Gilbert Kemp is dealer specializing in antiqu...\n",
              "2997     \"How do you know when you're in too deep? Dav...\n",
              "2998     The story concerns the life of Johnnie Pascoe...\n",
              "2999     The First Chief: Will Henry Lee: The novel op...\n",
              "Name: summary, Length: 3000, dtype: object"
            ]
          },
          "metadata": {
            "tags": []
          },
          "execution_count": 5
        }
      ]
    },
    {
      "cell_type": "code",
      "metadata": {
        "id": "F1fAUxFy5yj2"
      },
      "source": [
        "# function for text cleaning\n",
        " \n",
        "def clean(text):\n",
        "    # remove backslash-apostrophe \n",
        "    text = re.sub(\"\\'\", \"\", text) \n",
        "    # remove everything except alphabets \n",
        "    text = re.sub(\"[^a-zA-Z]\",\" \",text) \n",
        "    # remove whitespaces \n",
        "    text = ' '.join(text.split()) \n",
        "    # convert text to lowercase \n",
        "    text = text.lower() \n",
        "    \n",
        "    return text\n",
        "\n",
        "books.loc[:,'summary']=books.loc[:,'summary'].apply(lambda x: clean(x))\n"
      ],
      "execution_count": null,
      "outputs": []
    },
    {
      "cell_type": "code",
      "metadata": {
        "id": "wB1nPgLu54q_",
        "colab": {
          "base_uri": "https://localhost:8080/",
          "height": 272
        },
        "outputId": "cb10d937-d590-416d-d0cd-e8041d26b655"
      },
      "source": [
        "#Displaying \"summary\" after text-cleaning.\n",
        "\n",
        "print(\"Snapshot of books['summary']\\n\\n\")\n",
        "books['summary']"
      ],
      "execution_count": null,
      "outputs": [
        {
          "output_type": "stream",
          "text": [
            "Snapshot of books['summary']\n",
            "\n",
            "\n"
          ],
          "name": "stdout"
        },
        {
          "output_type": "execute_result",
          "data": {
            "text/plain": [
              "0       drowned wednesday is the first trustee among t...\n",
              "1       as the book opens jason awakens on a school bu...\n",
              "2       cugel is easily persuaded by the merchant fian...\n",
              "3       the book opens with herald mage vanyel returni...\n",
              "4       taran and gurgi have returned to caer dallben ...\n",
              "                              ...                        \n",
              "2995    a novel from the numa files a kurt austin adve...\n",
              "2996    gilbert kemp is dealer specializing in antique...\n",
              "2997    how do you know when youre in too deep davey h...\n",
              "2998    the story concerns the life of johnnie pascoe ...\n",
              "2999    the first chief will henry lee the novel opens...\n",
              "Name: summary, Length: 3000, dtype: object"
            ]
          },
          "metadata": {
            "tags": []
          },
          "execution_count": 7
        }
      ]
    },
    {
      "cell_type": "markdown",
      "metadata": {
        "id": "LsRhxYIYVDrA"
      },
      "source": [
        "The function **freqwords** will visualize the words and their frequency in a set of documents. It is used to find out the most frequent words in the book's summary:"
      ]
    },
    {
      "cell_type": "code",
      "metadata": {
        "id": "CPbCW9QqVS0h",
        "colab": {
          "base_uri": "https://localhost:8080/",
          "height": 385
        },
        "outputId": "e0c725d0-d19f-48ca-a6d3-ddb25e5c520c"
      },
      "source": [
        "#Function to visualize the words and frequency in book's summary.\n",
        "\n",
        "print(\"Graph to visualize the words and frequency in book's summary.\\n\\n\")\n",
        "\n",
        "def freqwords(x, terms): \n",
        "  allwords = ' '.join([text for text in x]) \n",
        "  allwords = allwords.split() \n",
        "  fdist = nltk.FreqDist(allwords) \n",
        "  wordsdf = pd.DataFrame({'word':list(fdist.keys()), 'count':list(fdist.values())}) \n",
        "  \n",
        "  \n",
        "  d = wordsdf.nlargest(columns=\"count\", n = terms) \n",
        "  \n",
        "  # visualize words and frequencies\n",
        "  plt.figure(figsize=(7,5)) \n",
        "  ax = sns.barplot(data=d, x= \"count\", y = \"word\") \n",
        "  ax.set(ylabel = 'Word') \n",
        "  plt.show()\n",
        "  \n",
        "# print 25 most frequent words \n",
        "freqwords(books['summary'], 25)"
      ],
      "execution_count": null,
      "outputs": [
        {
          "output_type": "stream",
          "text": [
            "Graph to visualize the words and frequency in book's summary.\n",
            "\n",
            "\n"
          ],
          "name": "stdout"
        },
        {
          "output_type": "display_data",
          "data": {
            "image/png": "[encoded data removed]",
            "text/plain": [
              "<Figure size 504x360 with 1 Axes>"
            ]
          },
          "metadata": {
            "tags": [],
            "needs_background": "light"
          }
        }
      ]
    },
    {
      "cell_type": "markdown",
      "metadata": {
        "id": "X--_NH8A57IO"
      },
      "source": [
        "**Step 2.** Removing stop words from the column \"summary\".\n",
        "\n",
        "Another part of data cleaning is the **removal of stop words** – that is, common words like “the”, “a”, “an”. They are assumed to have no consequence over the classification process."
      ]
    },
    {
      "cell_type": "code",
      "metadata": {
        "id": "meg_agBl6UIT",
        "colab": {
          "base_uri": "https://localhost:8080/",
          "height": 51
        },
        "outputId": "b1a2f04d-d256-44ba-f6fe-301a5a94a8e8"
      },
      "source": [
        "nltk.download('stopwords')\n",
        "\n",
        "from nltk.corpus import stopwords\n",
        "stop_words = set(stopwords.words('english'))\n",
        "\n",
        "# function to remove stopwords\n",
        "def removestopwords(text):\n",
        "    no_stopword_text = [w for w in text.split() if not w in stop_words]\n",
        "    return ' '.join(no_stopword_text)\n",
        "\n",
        "books['summary'] = books['summary'].apply(lambda x: removestopwords(x))"
      ],
      "execution_count": null,
      "outputs": [
        {
          "output_type": "stream",
          "text": [
            "[nltk_data] Downloading package stopwords to /root/nltk_data...\n",
            "[nltk_data]   Unzipping corpora/stopwords.zip.\n"
          ],
          "name": "stdout"
        }
      ]
    },
    {
      "cell_type": "code",
      "metadata": {
        "id": "Hy6PdiAN6Z69",
        "colab": {
          "base_uri": "https://localhost:8080/",
          "height": 272
        },
        "outputId": "72096e71-86e8-4d12-b285-89b4f69c7ac7"
      },
      "source": [
        "#Displaying \"summary\" after removing stop words\n",
        "\n",
        "print(\"Snapshot of books['summary']\\n\\n\")\n",
        "\n",
        "books['summary']"
      ],
      "execution_count": null,
      "outputs": [
        {
          "output_type": "stream",
          "text": [
            "Snapshot of books['summary']\n",
            "\n",
            "\n"
          ],
          "name": "stdout"
        },
        {
          "output_type": "execute_result",
          "data": {
            "text/plain": [
              "0       drowned wednesday first trustee among morrow d...\n",
              "1       book opens jason awakens school bus unable rem...\n",
              "2       cugel easily persuaded merchant fianosther att...\n",
              "3       book opens herald mage vanyel returning countr...\n",
              "4       taran gurgi returned caer dallben following ev...\n",
              "                              ...                        \n",
              "2995    novel numa files kurt austin adventure novel m...\n",
              "2996    gilbert kemp dealer specializing antique guns ...\n",
              "2997    know youre deep davey always lived shadow olde...\n",
              "2998    story concerns life johnnie pascoe retired com...\n",
              "2999    first chief henry lee novel opens growing town...\n",
              "Name: summary, Length: 3000, dtype: object"
            ]
          },
          "metadata": {
            "tags": []
          },
          "execution_count": 18
        }
      ]
    },
    {
      "cell_type": "markdown",
      "metadata": {
        "id": "MBVohHje6hvj"
      },
      "source": [
        "3) **Lemmatization** on 'summary'\n",
        "\n",
        "Greater the degree of randomness, greater would be the computation time, and lesser would be the efficiency of the detection of patterns in the textual corpora. We introduced the module which performs lemmatization on words, that is, **it groups different versions of the same word into one – for example, “do/doing/does/did”, “go/going/goes/went”** – so as to not let the algorithm treat similar words as different, and hence, make the analysis stronger."
      ]
    },
    {
      "cell_type": "code",
      "metadata": {
        "id": "YWQSjS2Y6eVX",
        "colab": {
          "base_uri": "https://localhost:8080/",
          "height": 51
        },
        "outputId": "2a77ffcd-c116-40d9-9bac-0a08aebcdae2"
      },
      "source": [
        "nltk.download('wordnet')\n",
        "from nltk.stem import WordNetLemmatizer\n",
        "\n",
        "lemma=WordNetLemmatizer()\n",
        "\n",
        "def lematizing(sentence):\n",
        "    stemSentence = \"\"\n",
        "    for word in sentence.split():\n",
        "        stem = lemma.lemmatize(word)\n",
        "        stemSentence += stem\n",
        "        stemSentence += \" \"\n",
        "    stemSentence = stemSentence.strip()\n",
        "    return stemSentence\n",
        "\n",
        "\n",
        "books['summary'] = books['summary'].apply(lambda x: lematizing(x))"
      ],
      "execution_count": null,
      "outputs": [
        {
          "output_type": "stream",
          "text": [
            "[nltk_data] Downloading package wordnet to /root/nltk_data...\n",
            "[nltk_data]   Unzipping corpora/wordnet.zip.\n"
          ],
          "name": "stdout"
        }
      ]
    },
    {
      "cell_type": "code",
      "metadata": {
        "id": "3ShvZYCP6rHO",
        "colab": {
          "base_uri": "https://localhost:8080/",
          "height": 272
        },
        "outputId": "b5220ae8-f034-4d12-a43b-9c2e82ab87f2"
      },
      "source": [
        "#Displaying \"summary\" after Lemmmatization\n",
        "\n",
        "print(\"Snapshot of books['summary']\\n\\n\")\n",
        "\n",
        "books['summary']"
      ],
      "execution_count": null,
      "outputs": [
        {
          "output_type": "stream",
          "text": [
            "Snapshot of books['summary']\n",
            "\n",
            "\n"
          ],
          "name": "stdout"
        },
        {
          "output_type": "execute_result",
          "data": {
            "text/plain": [
              "0       drowned wednesday first trustee among morrow d...\n",
              "1       book open jason awakens school bus unable reme...\n",
              "2       cugel easily persuaded merchant fianosther att...\n",
              "3       book open herald mage vanyel returning country...\n",
              "4       taran gurgi returned caer dallben following ev...\n",
              "                              ...                        \n",
              "2995    novel numa file kurt austin adventure novel ma...\n",
              "2996    gilbert kemp dealer specializing antique gun l...\n",
              "2997    know youre deep davey always lived shadow olde...\n",
              "2998    story concern life johnnie pascoe retired comm...\n",
              "2999    first chief henry lee novel open growing town ...\n",
              "Name: summary, Length: 3000, dtype: object"
            ]
          },
          "metadata": {
            "tags": []
          },
          "execution_count": 20
        }
      ]
    },
    {
      "cell_type": "markdown",
      "metadata": {
        "id": "OC1mKYe1RWjV"
      },
      "source": [
        "4) **Stemming** on 'summary'\n",
        "\n",
        "**Stemming is the process of producing morphological variants of a root/base word.** Stemming programs are commonly referred to as stemming algorithms or stemmers. A stemming algorithm reduces **the words “chocolates”, “chocolatey”, “choco” to the root word, “chocolate” and “retrieval”, “retrieved”, “retrieves” reduce to the stem “retrieve”**."
      ]
    },
    {
      "cell_type": "code",
      "metadata": {
        "id": "V3cXXPyIRUWe"
      },
      "source": [
        "from nltk.stem import PorterStemmer\n",
        "stemmer = PorterStemmer()\n",
        "def stemming(sentence):\n",
        "    stemSentence = \"\"\n",
        "    for word in sentence.split():\n",
        "        stem = stemmer.stem(word)\n",
        "        stemSentence += stem\n",
        "        stemSentence += \" \"\n",
        "    stemSentence = stemSentence.strip()\n",
        "    return stemSentence\n",
        "\n",
        "\n",
        "books['summary'] = books['summary'].apply(lambda x: stemming(x))"
      ],
      "execution_count": null,
      "outputs": []
    },
    {
      "cell_type": "code",
      "metadata": {
        "id": "Vg6xu-CnRrjc",
        "colab": {
          "base_uri": "https://localhost:8080/",
          "height": 272
        },
        "outputId": "be665a90-74a5-48c3-fbf2-36f82576ae72"
      },
      "source": [
        "#Displaying \"summary\" after Stemming\n",
        "\n",
        "print(\"Snapshot of books['summary']\\n\\n\")\n",
        "\n",
        "books['summary']"
      ],
      "execution_count": null,
      "outputs": [
        {
          "output_type": "stream",
          "text": [
            "Snapshot of books['summary']\n",
            "\n",
            "\n"
          ],
          "name": "stdout"
        },
        {
          "output_type": "execute_result",
          "data": {
            "text/plain": [
              "0       drown wednesday first truste among morrow day ...\n",
              "1       book open jason awaken school bu unabl rememb ...\n",
              "2       cugel easili persuad merchant fianosth attempt...\n",
              "3       book open herald mage vanyel return countri va...\n",
              "4       taran gurgi return caer dallben follow event t...\n",
              "                              ...                        \n",
              "2995    novel numa file kurt austin adventur novel mai...\n",
              "2996    gilbert kemp dealer special antiqu gun london ...\n",
              "2997    know your deep davey alway live shadow older b...\n",
              "2998    stori concern life johnni pasco retir commerci...\n",
              "2999    first chief henri lee novel open grow town del...\n",
              "Name: summary, Length: 3000, dtype: object"
            ]
          },
          "metadata": {
            "tags": []
          },
          "execution_count": 22
        }
      ]
    },
    {
      "cell_type": "markdown",
      "metadata": {
        "id": "Ehq7UChMVzkz"
      },
      "source": [
        "Visualizing  the words in book's summary once again after successfully pre-processing."
      ]
    },
    {
      "cell_type": "code",
      "metadata": {
        "id": "E-UoMcepUAeQ",
        "colab": {
          "base_uri": "https://localhost:8080/",
          "height": 334
        },
        "outputId": "7bcf38d1-77fe-4281-f63e-88eed92ce448"
      },
      "source": [
        "#Function to visualize the words and frequency in book's summary.\n",
        "\n",
        "\n",
        "# print 25 most frequent words \n",
        "freqwords(books['summary'], 25)"
      ],
      "execution_count": null,
      "outputs": [
        {
          "output_type": "display_data",
          "data": {
            "image/png": "[encoded data removed]",
            "text/plain": [
              "<Figure size 504x360 with 1 Axes>"
            ]
          },
          "metadata": {
            "tags": [],
            "needs_background": "light"
          }
        }
      ]
    },
    {
      "cell_type": "markdown",
      "metadata": {
        "id": "6e6s5UOGWQ79"
      },
      "source": [
        "**Converting Text in Books dataset to Features**"
      ]
    },
    {
      "cell_type": "markdown",
      "metadata": {
        "id": "1qon_nj2u3nI"
      },
      "source": [
        "Now, we **denote an unique number to each of the 6 genres** from 0 - 5"
      ]
    },
    {
      "cell_type": "code",
      "metadata": {
        "id": "JZ7Zy8chSCbu"
      },
      "source": [
        "#Labeling each 'genre' with an unique number \n",
        "\n",
        "from sklearn.preprocessing import LabelEncoder\n",
        "\n",
        "LE = LabelEncoder()\n",
        "\n",
        "y=LE.fit_transform(books['genre'])\n"
      ],
      "execution_count": null,
      "outputs": []
    },
    {
      "cell_type": "markdown",
      "metadata": {
        "id": "87lDyg7rvgGZ"
      },
      "source": [
        "The mapping is 1:1\n",
        "\n",
        "**Crime Fiction    -  0**\n",
        "\n",
        "**Fantasy          -  1**\n",
        "\n",
        "**Historical novel -  2**\n",
        "\n",
        "**Horror           -  3**\n",
        "\n",
        "**Science Fiction  -  4**\n",
        "\n",
        "**Thriller         -  5** "
      ]
    },
    {
      "cell_type": "code",
      "metadata": {
        "id": "IADBUHXGSD-K",
        "colab": {
          "base_uri": "https://localhost:8080/",
          "height": 51
        },
        "outputId": "7cded97b-514a-4a19-8165-fee8cff8da45"
      },
      "source": [
        "#perform inverse mapping on the unique numbers representing a genre.\n",
        "\n",
        "\n",
        "\n",
        "LE.inverse_transform([0,1,2,3,4,5])"
      ],
      "execution_count": null,
      "outputs": [
        {
          "output_type": "execute_result",
          "data": {
            "text/plain": [
              "array(['Crime Fiction', 'Fantasy', 'Historical novel', 'Horror',\n",
              "       'Science Fiction', 'Thriller'], dtype=object)"
            ]
          },
          "metadata": {
            "tags": []
          },
          "execution_count": 25
        }
      ]
    },
    {
      "cell_type": "markdown",
      "metadata": {
        "id": "9Bg6xpNxFyJ_"
      },
      "source": [
        "**Fitting the models**"
      ]
    },
    {
      "cell_type": "markdown",
      "metadata": {
        "id": "dN9yti7-SZ9Q"
      },
      "source": [
        "**1.** At first a **80-20% split** was performed on the dataset"
      ]
    },
    {
      "cell_type": "code",
      "metadata": {
        "id": "wvoMPaTFSZC1"
      },
      "source": [
        "xtrain, xval, ytrain, yval = train_test_split(books['summary'], y, test_size=0.2, random_state=557) "
      ],
      "execution_count": null,
      "outputs": []
    },
    {
      "cell_type": "markdown",
      "metadata": {
        "id": "WNSXRDGZxQEW"
      },
      "source": [
        "**tf-idf was performed on \"summary\" for both train(i.e xtrain) and test(i.e xval).**\n",
        "\n",
        "**tf–idf** or TFIDF, short for **term frequency–inverse document frequency**, is a numerical statistic that is intended to reflect how important a word is to a document in a collection or corpus.\n",
        "\n",
        "\n",
        "**tf(t)** = (Number of times term t appears in a document) / (Total number of terms in the document).\n",
        "\n",
        "**idf(t)** = log_e(Total number of documents / Number of documents with term t in it)."
      ]
    },
    {
      "cell_type": "code",
      "metadata": {
        "id": "mJXZoVHCStjD"
      },
      "source": [
        "#Performing tf-idf \n",
        "\n",
        "tfidf_vectorizer = TfidfVectorizer(max_df=0.8, max_features=10000)\n",
        "\n",
        "xtrain_tfidf = tfidf_vectorizer.fit_transform(xtrain.values.astype('U'))\n",
        "\n",
        "xval_tfidf = tfidf_vectorizer.transform(xval.values.astype('U'))\n"
      ],
      "execution_count": null,
      "outputs": []
    },
    {
      "cell_type": "markdown",
      "metadata": {
        "id": "eA7CVZjQTcLO"
      },
      "source": [
        "**Using Logistic Regression**\n",
        "\n",
        "Logistic Regression is used when the **dependent variable( target ) is categorical**.\n",
        "\n",
        "logistic regressions are only binary classifiers, meaning they cannot handle target vectors with more than two classes. However, there are clever extensions to logistic regression to do just that. In one-vs-rest logistic regression (OVR) a separate model is trained for each class predicted whether an observation is that class or not (thus making it a binary classification problem). It assumes that each classification problem (e.g. class 0 or not) is independent."
      ]
    },
    {
      "cell_type": "code",
      "metadata": {
        "id": "n3_HstvETg80",
        "colab": {
          "base_uri": "https://localhost:8080/",
          "height": 289
        },
        "outputId": "b1ca456a-b2b3-43f6-e97c-1c9483b3b127"
      },
      "source": [
        "\n",
        "start=datetime.now()\n",
        "\n",
        "from sklearn.linear_model import LogisticRegression\n",
        "\n",
        "# Binary Relevance.\n",
        "from sklearn.multiclass import OneVsRestClassifier\n",
        "\n",
        "\n",
        "\n",
        "lr = LogisticRegression()\n",
        "clf = OneVsRestClassifier(lr)\n",
        "\n",
        "# fit model on train data.\n",
        "clf.fit(xtrain_tfidf, ytrain)\n",
        "\n",
        "# make predictions for validation set.\n",
        "y_pred_lr = clf.predict(xval_tfidf)\n",
        "\n",
        "\n",
        "from sklearn.metrics import accuracy_score \n",
        "from sklearn.metrics import classification_report \n",
        "  \n",
        "\n",
        "#Calculating the accuracy.\n",
        "print( 'Accuracy Score :',accuracy_score(yval,y_pred_lr) )\n",
        "\n",
        "#Printing the classification report.\n",
        "print ('Report : ')\n",
        "print(classification_report(yval,y_pred_lr))\n",
        "\n",
        "print(\"Executed in \",datetime.now()-start)"
      ],
      "execution_count": null,
      "outputs": [
        {
          "output_type": "stream",
          "text": [
            "Accuracy Score : 0.785\n",
            "Report : \n",
            "              precision    recall  f1-score   support\n",
            "\n",
            "           0       0.79      0.82      0.80       102\n",
            "           1       0.69      0.78      0.73        89\n",
            "           2       0.83      0.86      0.84       110\n",
            "           3       0.80      0.73      0.76       100\n",
            "           4       0.82      0.80      0.81        97\n",
            "           5       0.78      0.71      0.74       102\n",
            "\n",
            "    accuracy                           0.79       600\n",
            "   macro avg       0.78      0.78      0.78       600\n",
            "weighted avg       0.79      0.79      0.78       600\n",
            "\n",
            "Executed in  0:00:00.719355\n"
          ],
          "name": "stdout"
        }
      ]
    },
    {
      "cell_type": "markdown",
      "metadata": {
        "id": "6JXp2cR6HLuy"
      },
      "source": [
        "**Using SVM**\n",
        "\n",
        " SVMs try to find a separating line(or hyperplane) between data of two classes. SVM is an algorithm that takes the data as an input and outputs a line that separates those classes if possible.\n",
        "\n",
        " According to the SVM algorithm we find the points closest to the line from both the classes.These points are called support vectors. Now, we compute the distance between the line and the support vectors. This distance is called the margin. Our goal is to maximize the margin. The hyperplane for which the margin is maximum is the optimal hyperplane.\n",
        "\n",
        " Thus SVM tries to make a decision boundary in such a way that the separation between the two classes(that street) is as wide as possible.\n",
        "\n",
        "\n",
        " The linear, polynomial and RBF or Gaussian kernel are simply different in case of making the hyperplane decision boundary between the classes.\n",
        "The kernel functions are used to map the original dataset (linear/nonlinear ) into a higher dimensional space with view to making it linear dataset.\n",
        "\n",
        "Usually linear and polynomial kernels are less time consuming and provides less accuracy than the rbf or Gaussian kernels."
      ]
    },
    {
      "cell_type": "markdown",
      "metadata": {
        "id": "snW-sIMPT8l8"
      },
      "source": [
        "**--SVM('linear')--**"
      ]
    },
    {
      "cell_type": "code",
      "metadata": {
        "id": "Mq-xzxitT2C-",
        "colab": {
          "base_uri": "https://localhost:8080/",
          "height": 289
        },
        "outputId": "b3b9a555-1832-44e2-dc0c-1749f348ca31"
      },
      "source": [
        "start=datetime.now()\n",
        "\n",
        "from sklearn import svm\n",
        "\n",
        "svc = svm.SVC(kernel='linear').fit(xtrain_tfidf,ytrain)\n",
        "\n",
        "svpred=svc.predict(xval_tfidf)\n",
        "\n",
        "from sklearn.metrics import accuracy_score \n",
        "from sklearn.metrics import classification_report \n",
        "  \n",
        "\n",
        "\n",
        "print( 'Accuracy Score :',accuracy_score(yval,svpred) )\n",
        "print ('Report : ')\n",
        "print(classification_report(yval,svpred))\n",
        "\n",
        "print(\"Executed in \",datetime.now()-start)"
      ],
      "execution_count": null,
      "outputs": [
        {
          "output_type": "stream",
          "text": [
            "Accuracy Score : 0.7633333333333333\n",
            "Report : \n",
            "              precision    recall  f1-score   support\n",
            "\n",
            "           0       0.81      0.79      0.80       102\n",
            "           1       0.69      0.72      0.70        89\n",
            "           2       0.81      0.87      0.84       110\n",
            "           3       0.74      0.73      0.73       100\n",
            "           4       0.79      0.75      0.77        97\n",
            "           5       0.73      0.70      0.71       102\n",
            "\n",
            "    accuracy                           0.76       600\n",
            "   macro avg       0.76      0.76      0.76       600\n",
            "weighted avg       0.76      0.76      0.76       600\n",
            "\n",
            "Executed in  0:00:12.125324\n"
          ],
          "name": "stdout"
        }
      ]
    },
    {
      "cell_type": "markdown",
      "metadata": {
        "id": "WUeED80DUmtp"
      },
      "source": [
        "**--SVM(kernel=rbf)--**"
      ]
    },
    {
      "cell_type": "code",
      "metadata": {
        "id": "UuUia4CgUMLu",
        "colab": {
          "base_uri": "https://localhost:8080/",
          "height": 289
        },
        "outputId": "d2f75914-2099-4ed5-c678-ca8c5d2c6a68"
      },
      "source": [
        "start=datetime.now()\n",
        "\n",
        "from sklearn import svm\n",
        "\n",
        "svc = svm.SVC(kernel='rbf',gamma=1).fit(xtrain_tfidf,ytrain)\n",
        "\n",
        "svpred=svc.predict(xval_tfidf)\n",
        "\n",
        "from sklearn.metrics import accuracy_score \n",
        "from sklearn.metrics import classification_report \n",
        "  \n",
        "\n",
        "\n",
        "print( 'Accuracy Score :',accuracy_score(yval,svpred) )\n",
        "print ('Report : ')\n",
        "print(classification_report(yval,svpred))\n",
        "\n",
        "print(\"Executed in \",datetime.now()-start)"
      ],
      "execution_count": null,
      "outputs": [
        {
          "output_type": "stream",
          "text": [
            "Accuracy Score : 0.775\n",
            "Report : \n",
            "              precision    recall  f1-score   support\n",
            "\n",
            "           0       0.84      0.78      0.81       102\n",
            "           1       0.67      0.76      0.71        89\n",
            "           2       0.84      0.85      0.84       110\n",
            "           3       0.77      0.72      0.74       100\n",
            "           4       0.83      0.77      0.80        97\n",
            "           5       0.71      0.75      0.73       102\n",
            "\n",
            "    accuracy                           0.78       600\n",
            "   macro avg       0.78      0.77      0.77       600\n",
            "weighted avg       0.78      0.78      0.78       600\n",
            "\n",
            "Executed in  0:00:13.067942\n"
          ],
          "name": "stdout"
        }
      ]
    },
    {
      "cell_type": "markdown",
      "metadata": {
        "id": "4UDs_rXIIfz0"
      },
      "source": [
        "**2.** Next a **85-15% split** was performed on the dataset"
      ]
    },
    {
      "cell_type": "code",
      "metadata": {
        "id": "aTV3SYGRVHcV"
      },
      "source": [
        "xtrain, xval, ytrain, yval = train_test_split(books['summary'], y, test_size=0.15, random_state=246) "
      ],
      "execution_count": null,
      "outputs": []
    },
    {
      "cell_type": "markdown",
      "metadata": {
        "id": "peEBqjQjJSll"
      },
      "source": [
        "**tf-idf was performed on \"summary\" for both train(i.e xtrain) and test(i.e xval).**\n"
      ]
    },
    {
      "cell_type": "code",
      "metadata": {
        "id": "tI40mA9aJSln"
      },
      "source": [
        "#Performing tf-idf \n",
        "\n",
        "tfidf_vectorizer = TfidfVectorizer(max_df=0.8, max_features=10000)\n",
        "\n",
        "xtrain_tfidf = tfidf_vectorizer.fit_transform(xtrain.values.astype('U'))\n",
        "\n",
        "xval_tfidf = tfidf_vectorizer.transform(xval.values.astype('U'))\n"
      ],
      "execution_count": null,
      "outputs": []
    },
    {
      "cell_type": "markdown",
      "metadata": {
        "id": "rkoNZmFGJSls"
      },
      "source": [
        "**Using Logistic Regression**\n"
      ]
    },
    {
      "cell_type": "code",
      "metadata": {
        "id": "2jVv2Q-KJSlt",
        "colab": {
          "base_uri": "https://localhost:8080/",
          "height": 289
        },
        "outputId": "77cc4dd0-11b5-414a-a611-d65b27e6b5a8"
      },
      "source": [
        "start=datetime.now()\n",
        "\n",
        "from sklearn.linear_model import LogisticRegression\n",
        "\n",
        "# Binary Relevance.\n",
        "from sklearn.multiclass import OneVsRestClassifier\n",
        "\n",
        "# Performance metric.\n",
        "from sklearn.metrics import accuracy_score\n",
        "\n",
        "lr = LogisticRegression()\n",
        "clf = OneVsRestClassifier(lr)\n",
        "\n",
        "# fit model on train data.\n",
        "clf.fit(xtrain_tfidf, ytrain)\n",
        "\n",
        "# make predictions for validation set.\n",
        "y_pred_lr = clf.predict(xval_tfidf)\n",
        "\n",
        "\n",
        "from sklearn.metrics import accuracy_score \n",
        "from sklearn.metrics import classification_report \n",
        "  \n",
        "\n",
        "#Calculating the accuracy.\n",
        "print( 'Accuracy Score :',accuracy_score(yval,y_pred_lr) )\n",
        "\n",
        "#Printing the classification report.\n",
        "print ('Report : ')\n",
        "print(classification_report(yval,y_pred_lr))\n",
        "\n",
        "print(\"Executed in \",datetime.now()-start)"
      ],
      "execution_count": null,
      "outputs": [
        {
          "output_type": "stream",
          "text": [
            "Accuracy Score : 0.7844444444444445\n",
            "Report : \n",
            "              precision    recall  f1-score   support\n",
            "\n",
            "           0       0.73      0.78      0.75        67\n",
            "           1       0.80      0.83      0.81        82\n",
            "           2       0.85      0.85      0.85        86\n",
            "           3       0.74      0.74      0.74        72\n",
            "           4       0.82      0.86      0.84        64\n",
            "           5       0.75      0.66      0.70        79\n",
            "\n",
            "    accuracy                           0.78       450\n",
            "   macro avg       0.78      0.78      0.78       450\n",
            "weighted avg       0.78      0.78      0.78       450\n",
            "\n",
            "Executed in  0:00:00.722073\n"
          ],
          "name": "stdout"
        }
      ]
    },
    {
      "cell_type": "markdown",
      "metadata": {
        "id": "PfBbXdAwJSly"
      },
      "source": [
        "**Using SVM**\n"
      ]
    },
    {
      "cell_type": "markdown",
      "metadata": {
        "id": "wqJk7LmmJSlz"
      },
      "source": [
        "**--SVM('linear')--**"
      ]
    },
    {
      "cell_type": "code",
      "metadata": {
        "id": "AMn9ssWaJSl2",
        "colab": {
          "base_uri": "https://localhost:8080/",
          "height": 289
        },
        "outputId": "11aeea35-0368-4c06-fc9e-461cc6901792"
      },
      "source": [
        "start=datetime.now()\n",
        "\n",
        "from sklearn import svm\n",
        "\n",
        "svc = svm.SVC(kernel='linear').fit(xtrain_tfidf,ytrain)\n",
        "\n",
        "svpred=svc.predict(xval_tfidf)\n",
        "\n",
        "from sklearn.metrics import accuracy_score \n",
        "from sklearn.metrics import classification_report \n",
        "  \n",
        "\n",
        "\n",
        "print( 'Accuracy Score :',accuracy_score(yval,svpred) )\n",
        "print ('Report : ')\n",
        "print(classification_report(yval,svpred))\n",
        "\n",
        "print(\"Executed in \",datetime.now()-start)"
      ],
      "execution_count": null,
      "outputs": [
        {
          "output_type": "stream",
          "text": [
            "Accuracy Score : 0.7822222222222223\n",
            "Report : \n",
            "              precision    recall  f1-score   support\n",
            "\n",
            "           0       0.77      0.73      0.75        67\n",
            "           1       0.78      0.84      0.81        82\n",
            "           2       0.86      0.84      0.85        86\n",
            "           3       0.70      0.75      0.72        72\n",
            "           4       0.84      0.83      0.83        64\n",
            "           5       0.74      0.70      0.72        79\n",
            "\n",
            "    accuracy                           0.78       450\n",
            "   macro avg       0.78      0.78      0.78       450\n",
            "weighted avg       0.78      0.78      0.78       450\n",
            "\n",
            "Executed in  0:00:13.070904\n"
          ],
          "name": "stdout"
        }
      ]
    },
    {
      "cell_type": "markdown",
      "metadata": {
        "id": "7OhrWNpwJSl7"
      },
      "source": [
        "**--SVM(kernel=rbf)--**"
      ]
    },
    {
      "cell_type": "code",
      "metadata": {
        "id": "ytZOaLDJJSl7",
        "colab": {
          "base_uri": "https://localhost:8080/",
          "height": 289
        },
        "outputId": "83900a60-0744-4d31-a08a-e61b131ee8b4"
      },
      "source": [
        "start=datetime.now()\n",
        "\n",
        "from sklearn import svm\n",
        "\n",
        "svc = svm.SVC(kernel='rbf',gamma=1).fit(xtrain_tfidf,ytrain)\n",
        "\n",
        "svpred=svc.predict(xval_tfidf)\n",
        "\n",
        "from sklearn.metrics import accuracy_score \n",
        "from sklearn.metrics import classification_report \n",
        "  \n",
        "\n",
        "\n",
        "print( 'Accuracy Score :',accuracy_score(yval,svpred) )\n",
        "print ('Report : ')\n",
        "print(classification_report(yval,svpred))\n",
        "\n",
        "print(\"Executed in \",datetime.now()-start)"
      ],
      "execution_count": null,
      "outputs": [
        {
          "output_type": "stream",
          "text": [
            "Accuracy Score : 0.7955555555555556\n",
            "Report : \n",
            "              precision    recall  f1-score   support\n",
            "\n",
            "           0       0.77      0.75      0.76        67\n",
            "           1       0.80      0.88      0.84        82\n",
            "           2       0.87      0.85      0.86        86\n",
            "           3       0.73      0.75      0.74        72\n",
            "           4       0.86      0.86      0.86        64\n",
            "           5       0.74      0.68      0.71        79\n",
            "\n",
            "    accuracy                           0.80       450\n",
            "   macro avg       0.79      0.79      0.79       450\n",
            "weighted avg       0.80      0.80      0.79       450\n",
            "\n",
            "Executed in  0:00:14.247255\n"
          ],
          "name": "stdout"
        }
      ]
    },
    {
      "cell_type": "markdown",
      "metadata": {
        "id": "MUNaBR4qJrP0"
      },
      "source": [
        "Thus we conclude that **highest accuracy** was obtained during a **85-15% split** while using a **svm with rbf as the kernel function.**\n",
        "\n",
        "The highest **accuracy is 79.55 %**"
      ]
    },
    {
      "cell_type": "markdown",
      "metadata": {
        "id": "90LTh_-EKK90"
      },
      "source": [
        "Now, we **build an inference function for predicting the genres of new books in the future.**\n",
        "\n",
        "Our book genre prediction system should be able to take a book's summary in raw form as input and generate its genre tag.\n",
        "\n",
        "To achieve this the steps to be considered during building the function are -\n",
        "\n",
        "*   Clean the texts.\n",
        "*   Remove stopwords from the cleaned texts.\n",
        "*   Perform Lemmatization.\n",
        "*   Perform Stemming.\n",
        "*   Extract features from the text.\n",
        "*   Make predictions using svm with rbf as the kernel function.\n",
        "*   Return the predicted book genre tag.\n",
        "\n"
      ]
    },
    {
      "cell_type": "markdown",
      "metadata": {
        "id": "CUaAEfXaVpIC"
      },
      "source": [
        "**Executing the inference function on SVM(kernel=rbf) to predict future unknown genre**"
      ]
    },
    {
      "cell_type": "code",
      "metadata": {
        "id": "FzL-eMalVooL",
        "colab": {
          "base_uri": "https://localhost:8080/",
          "height": 1000
        },
        "outputId": "3772a344-257d-461d-8ca9-56e49432ec4e"
      },
      "source": [
        "start=datetime.now()\n",
        "\n",
        "def infertag(q):\n",
        "    q = clean(q)\n",
        "    q = removestopwords(q)\n",
        "    q = lematizing(q)\n",
        "    q = stemming(q)\n",
        "    q_vec = tfidf_vectorizer.transform([q])\n",
        "    q_pred = svc.predict(q_vec)\n",
        "    return LE.inverse_transform(q_pred)[0]\n",
        "    #return q_pred[0]\n",
        "\n",
        "\n",
        "for i in range(50): \n",
        "  k = xval.sample(1).index[0] \n",
        "  \n",
        "  print(\"\\nBook: \", books['book_name'][k], )\n",
        "  print(\"\\nPredicted genre: \", infertag(xval[k]))\n",
        "  print(\"\\nActual genre: \",books['genre'][k], \"\\n\")\n",
        "  print(\"-------------------------------\")\n",
        "\n",
        "print(\"Executed in \",datetime.now()-start)"
      ],
      "execution_count": null,
      "outputs": [
        {
          "output_type": "stream",
          "text": [
            "\n",
            "Book:  The Colorado Kid\n",
            "\n",
            "Predicted genre:  Crime Fiction\n",
            "\n",
            "Actual genre:  Crime Fiction \n",
            "\n",
            "-------------------------------\n",
            "\n",
            "Book:  Three to Get Deadly\n",
            "\n",
            "Predicted genre:  Crime Fiction\n",
            "\n",
            "Actual genre:  Crime Fiction \n",
            "\n",
            "-------------------------------\n",
            "\n",
            "Book:  Conan the Adventurer\n",
            "\n",
            "Predicted genre:  Fantasy\n",
            "\n",
            "Actual genre:  Fantasy \n",
            "\n",
            "-------------------------------\n",
            "\n",
            "Book:  A Fortress of Grey Ice\n",
            "\n",
            "Predicted genre:  Fantasy\n",
            "\n",
            "Actual genre:  Fantasy \n",
            "\n",
            "-------------------------------\n",
            "\n",
            "Book:  The Crystal Star\n",
            "\n",
            "Predicted genre:  Science Fiction\n",
            "\n",
            "Actual genre:  Science Fiction \n",
            "\n",
            "-------------------------------\n",
            "\n",
            "Book:  Taronga\n",
            "\n",
            "Predicted genre:  Fantasy\n",
            "\n",
            "Actual genre:  Fantasy \n",
            "\n",
            "-------------------------------\n",
            "\n",
            "Book:  Tunnels of Blood\n",
            "\n",
            "Predicted genre:  Horror\n",
            "\n",
            "Actual genre:  Horror \n",
            "\n",
            "-------------------------------\n",
            "\n",
            "Book:  Dimiter\n",
            "\n",
            "Predicted genre:  Thriller\n",
            "\n",
            "Actual genre:  Thriller \n",
            "\n",
            "-------------------------------\n",
            "\n",
            "Book:  Marlfox\n",
            "\n",
            "Predicted genre:  Fantasy\n",
            "\n",
            "Actual genre:  Fantasy \n",
            "\n",
            "-------------------------------\n",
            "\n",
            "Book:  Ruby\n",
            "\n",
            "Predicted genre:  Horror\n",
            "\n",
            "Actual genre:  Horror \n",
            "\n",
            "-------------------------------\n",
            "\n",
            "Book:  The Leap\n",
            "\n",
            "Predicted genre:  Fantasy\n",
            "\n",
            "Actual genre:  Fantasy \n",
            "\n",
            "-------------------------------\n",
            "\n",
            "Book:  Dawn Wind\n",
            "\n",
            "Predicted genre:  Historical novel\n",
            "\n",
            "Actual genre:  Historical novel \n",
            "\n",
            "-------------------------------\n",
            "\n",
            "Book:  Ramage and the Drumbeat\n",
            "\n",
            "Predicted genre:  Historical novel\n",
            "\n",
            "Actual genre:  Historical novel \n",
            "\n",
            "-------------------------------\n",
            "\n",
            "Book:  Treasure Box\n",
            "\n",
            "Predicted genre:  Horror\n",
            "\n",
            "Actual genre:  Horror \n",
            "\n",
            "-------------------------------\n",
            "\n",
            "Book:  Zombie\n",
            "\n",
            "Predicted genre:  Horror\n",
            "\n",
            "Actual genre:  Horror \n",
            "\n",
            "-------------------------------\n",
            "\n",
            "Book:  The Blood Doctor\n",
            "\n",
            "Predicted genre:  Fantasy\n",
            "\n",
            "Actual genre:  Crime Fiction \n",
            "\n",
            "-------------------------------\n",
            "\n",
            "Book:  The Leap\n",
            "\n",
            "Predicted genre:  Fantasy\n",
            "\n",
            "Actual genre:  Fantasy \n",
            "\n",
            "-------------------------------\n",
            "\n",
            "Book:  Heat\n",
            "\n",
            "Predicted genre:  Horror\n",
            "\n",
            "Actual genre:  Horror \n",
            "\n",
            "-------------------------------\n",
            "\n",
            "Book:  The Postman\n",
            "\n",
            "Predicted genre:  Science Fiction\n",
            "\n",
            "Actual genre:  Science Fiction \n",
            "\n",
            "-------------------------------\n",
            "\n",
            "Book:  Void Moon\n",
            "\n",
            "Predicted genre:  Thriller\n",
            "\n",
            "Actual genre:  Crime Fiction \n",
            "\n",
            "-------------------------------\n",
            "\n",
            "Book:  Amityville: The Final Chapter\n",
            "\n",
            "Predicted genre:  Fantasy\n",
            "\n",
            "Actual genre:  Horror \n",
            "\n",
            "-------------------------------\n",
            "\n",
            "Book:  The Golden Gate\n",
            "\n",
            "Predicted genre:  Thriller\n",
            "\n",
            "Actual genre:  Thriller \n",
            "\n",
            "-------------------------------\n",
            "\n",
            "Book:  Fear Itself\n",
            "\n",
            "Predicted genre:  Science Fiction\n",
            "\n",
            "Actual genre:  Science Fiction \n",
            "\n",
            "-------------------------------\n",
            "\n",
            "Book:  Battle Royale\n",
            "\n",
            "Predicted genre:  Science Fiction\n",
            "\n",
            "Actual genre:  Thriller \n",
            "\n",
            "-------------------------------\n",
            "\n",
            "Book:  The Chessmen of Mars\n",
            "\n",
            "Predicted genre:  Fantasy\n",
            "\n",
            "Actual genre:  Fantasy \n",
            "\n",
            "-------------------------------\n",
            "\n",
            "Book:  Cop Hater\n",
            "\n",
            "Predicted genre:  Crime Fiction\n",
            "\n",
            "Actual genre:  Crime Fiction \n",
            "\n",
            "-------------------------------\n",
            "\n",
            "Book:  The Physician\n",
            "\n",
            "Predicted genre:  Historical novel\n",
            "\n",
            "Actual genre:  Historical novel \n",
            "\n",
            "-------------------------------\n",
            "\n",
            "Book:  The Starlight Barking\n",
            "\n",
            "Predicted genre:  Fantasy\n",
            "\n",
            "Actual genre:  Fantasy \n",
            "\n",
            "-------------------------------\n",
            "\n",
            "Book:  Taronga\n",
            "\n",
            "Predicted genre:  Fantasy\n",
            "\n",
            "Actual genre:  Fantasy \n",
            "\n",
            "-------------------------------\n",
            "\n",
            "Book:  The Dain Curse\n",
            "\n",
            "Predicted genre:  Crime Fiction\n",
            "\n",
            "Actual genre:  Crime Fiction \n",
            "\n",
            "-------------------------------\n",
            "\n",
            "Book:  Yōgisha X no Kenshin\n",
            "\n",
            "Predicted genre:  Thriller\n",
            "\n",
            "Actual genre:  Crime Fiction \n",
            "\n",
            "-------------------------------\n",
            "\n",
            "Book:  Killers of the Dawn\n",
            "\n",
            "Predicted genre:  Horror\n",
            "\n",
            "Actual genre:  Horror \n",
            "\n",
            "-------------------------------\n",
            "\n",
            "Book:  Phantom\n",
            "\n",
            "Predicted genre:  Horror\n",
            "\n",
            "Actual genre:  Historical novel \n",
            "\n",
            "-------------------------------\n",
            "\n",
            "Book:  Worth Dying For\n",
            "\n",
            "Predicted genre:  Thriller\n",
            "\n",
            "Actual genre:  Thriller \n",
            "\n",
            "-------------------------------\n",
            "\n",
            "Book:  Hornet Flight\n",
            "\n",
            "Predicted genre:  Thriller\n",
            "\n",
            "Actual genre:  Thriller \n",
            "\n",
            "-------------------------------\n",
            "\n",
            "Book:  The Prefect\n",
            "\n",
            "Predicted genre:  Science Fiction\n",
            "\n",
            "Actual genre:  Science Fiction \n",
            "\n",
            "-------------------------------\n",
            "\n",
            "Book:  Kay the Left-Handed\n",
            "\n",
            "Predicted genre:  Historical novel\n",
            "\n",
            "Actual genre:  Historical novel \n",
            "\n",
            "-------------------------------\n",
            "\n",
            "Book:  The Apprentice\n",
            "\n",
            "Predicted genre:  Thriller\n",
            "\n",
            "Actual genre:  Crime Fiction \n",
            "\n",
            "-------------------------------\n",
            "\n",
            "Book:  Prime Directive\n",
            "\n",
            "Predicted genre:  Science Fiction\n",
            "\n",
            "Actual genre:  Science Fiction \n",
            "\n",
            "-------------------------------\n",
            "\n",
            "Book:  Ragtime\n",
            "\n",
            "Predicted genre:  Historical novel\n",
            "\n",
            "Actual genre:  Historical novel \n",
            "\n",
            "-------------------------------\n",
            "\n",
            "Book:  The Load of Unicorn\n",
            "\n",
            "Predicted genre:  Historical novel\n",
            "\n",
            "Actual genre:  Historical novel \n",
            "\n",
            "-------------------------------\n",
            "\n",
            "Book:  The Gap in the Curtain\n",
            "\n",
            "Predicted genre:  Science Fiction\n",
            "\n",
            "Actual genre:  Science Fiction \n",
            "\n",
            "-------------------------------\n",
            "\n",
            "Book:  From the Corner of His Eye\n",
            "\n",
            "Predicted genre:  Historical novel\n",
            "\n",
            "Actual genre:  Thriller \n",
            "\n",
            "-------------------------------\n",
            "\n",
            "Book:  Mr Standfast\n",
            "\n",
            "Predicted genre:  Thriller\n",
            "\n",
            "Actual genre:  Thriller \n",
            "\n",
            "-------------------------------\n",
            "\n",
            "Book:  Fripp\n",
            "\n",
            "Predicted genre:  Crime Fiction\n",
            "\n",
            "Actual genre:  Crime Fiction \n",
            "\n",
            "-------------------------------\n",
            "\n",
            "Book:  The Magician King\n",
            "\n",
            "Predicted genre:  Fantasy\n",
            "\n",
            "Actual genre:  Fantasy \n",
            "\n",
            "-------------------------------\n",
            "\n",
            "Book:  Killer: A Journal of Murder\n",
            "\n",
            "Predicted genre:  Crime Fiction\n",
            "\n",
            "Actual genre:  Crime Fiction \n",
            "\n",
            "-------------------------------\n",
            "\n",
            "Book:  The Unifying Force\n",
            "\n",
            "Predicted genre:  Science Fiction\n",
            "\n",
            "Actual genre:  Science Fiction \n",
            "\n",
            "-------------------------------\n",
            "\n",
            "Book:  Hell House\n",
            "\n",
            "Predicted genre:  Horror\n",
            "\n",
            "Actual genre:  Horror \n",
            "\n",
            "-------------------------------\n",
            "\n",
            "Book:  Tourist Season\n",
            "\n",
            "Predicted genre:  Crime Fiction\n",
            "\n",
            "Actual genre:  Crime Fiction \n",
            "\n",
            "-------------------------------\n",
            "Executed in  0:00:00.690266\n"
          ],
          "name": "stdout"
        }
      ]
    }
  ]
}